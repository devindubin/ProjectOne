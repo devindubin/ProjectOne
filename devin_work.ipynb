{
 "cells": [
  {
   "cell_type": "code",
   "execution_count": null,
   "metadata": {},
   "outputs": [],
   "source": []
  },
  {
   "cell_type": "code",
   "execution_count": 2,
   "metadata": {},
   "outputs": [],
   "source": [
    "import pandas as pd\n",
    "import matplotlib.pyplot as plt\n",
    "import requests\n",
    "import scipy as sc\n",
    "import datapungi_fed as dpf\n",
    "from census import Census\n",
    "from us import states \n",
    "from config_fred import fred_key\n",
    "import zipfile, os\n",
    "\n",
    "census_key = os.environ.get(\"CENSUS\")\n",
    "gkey = os.environ.get(\"GKEY\")\n",
    "data = dpf.data(fred_key)\n",
    "c = Census(census_key)"
   ]
  },
  {
   "cell_type": "code",
   "execution_count": null,
   "metadata": {},
   "outputs": [],
   "source": []
  },
  {
   "cell_type": "markdown",
   "metadata": {},
   "source": [
    "## Metrics:\n",
    "- [x] GDP \n",
    "- [x] GNP\n",
    "- [x] UMP Rate\n",
    "- [x] Total Spending\n",
    "- [x] Cap Utilization Rate\n",
    "- [ ] Solow Residual\n",
    "- [ ] Efficiency\n",
    "- [ ] Standard of Living\n",
    "- [ ] Human Development Index\n"
   ]
  },
  {
   "cell_type": "code",
   "execution_count": 3,
   "metadata": {},
   "outputs": [
    {
     "data": {
      "text/html": [
       "<div>\n",
       "<style scoped>\n",
       "    .dataframe tbody tr th:only-of-type {\n",
       "        vertical-align: middle;\n",
       "    }\n",
       "\n",
       "    .dataframe tbody tr th {\n",
       "        vertical-align: top;\n",
       "    }\n",
       "\n",
       "    .dataframe thead th {\n",
       "        text-align: right;\n",
       "    }\n",
       "</style>\n",
       "<table border=\"1\" class=\"dataframe\">\n",
       "  <thead>\n",
       "    <tr style=\"text-align: right;\">\n",
       "      <th></th>\n",
       "      <th>gnp</th>\n",
       "    </tr>\n",
       "    <tr>\n",
       "      <th>date</th>\n",
       "      <th></th>\n",
       "    </tr>\n",
       "  </thead>\n",
       "  <tbody>\n",
       "    <tr>\n",
       "      <th>1947-01-01</th>\n",
       "      <td>244.142</td>\n",
       "    </tr>\n",
       "    <tr>\n",
       "      <th>1947-04-01</th>\n",
       "      <td>247.063</td>\n",
       "    </tr>\n",
       "    <tr>\n",
       "      <th>1947-07-01</th>\n",
       "      <td>250.716</td>\n",
       "    </tr>\n",
       "    <tr>\n",
       "      <th>1947-10-01</th>\n",
       "      <td>260.981</td>\n",
       "    </tr>\n",
       "    <tr>\n",
       "      <th>1948-01-01</th>\n",
       "      <td>267.133</td>\n",
       "    </tr>\n",
       "    <tr>\n",
       "      <th>...</th>\n",
       "      <td>...</td>\n",
       "    </tr>\n",
       "    <tr>\n",
       "      <th>2019-04-01</th>\n",
       "      <td>21601.036</td>\n",
       "    </tr>\n",
       "    <tr>\n",
       "      <th>2019-07-01</th>\n",
       "      <td>21820.080</td>\n",
       "    </tr>\n",
       "    <tr>\n",
       "      <th>2019-10-01</th>\n",
       "      <td>22028.479</td>\n",
       "    </tr>\n",
       "    <tr>\n",
       "      <th>2020-01-01</th>\n",
       "      <td>21804.322</td>\n",
       "    </tr>\n",
       "    <tr>\n",
       "      <th>2020-04-01</th>\n",
       "      <td>19671.986</td>\n",
       "    </tr>\n",
       "  </tbody>\n",
       "</table>\n",
       "<p>294 rows × 1 columns</p>\n",
       "</div>"
      ],
      "text/plain": [
       "                  gnp\n",
       "date                 \n",
       "1947-01-01    244.142\n",
       "1947-04-01    247.063\n",
       "1947-07-01    250.716\n",
       "1947-10-01    260.981\n",
       "1948-01-01    267.133\n",
       "...               ...\n",
       "2019-04-01  21601.036\n",
       "2019-07-01  21820.080\n",
       "2019-10-01  22028.479\n",
       "2020-01-01  21804.322\n",
       "2020-04-01  19671.986\n",
       "\n",
       "[294 rows x 1 columns]"
      ]
     },
     "execution_count": 3,
     "metadata": {},
     "output_type": "execute_result"
    }
   ],
   "source": [
    "unemployment_rate = data('UNRATE')\n",
    "gdp = data('gdpc1') #real gdp; billions \n",
    "gnp = data('gnp')\n",
    "pce = data('pce') # personal consumption expenditures\n",
    "tcu = data('tcu') # cap utliziation rate\n",
    "cpi = data('CPALTT01USM657N') #consumer price index all US items\n",
    "gini_fred = data('sipovginiusa')\n",
    "cocd = data('K1CTOTL1CD000') # cost of consumer durables (current-cost net stock of  consumer durable goods)\n",
    "gnp"
   ]
  },
  {
   "cell_type": "code",
   "execution_count": 4,
   "metadata": {},
   "outputs": [],
   "source": [
    "# unzipped_file = zipfile.ZipFile('Resources/FlatFiles.ZIP','r')\n",
    "# pd.read_csv(unzipped_file.open('FixedAssets.txt'))"
   ]
  },
  {
   "cell_type": "code",
   "execution_count": 6,
   "metadata": {},
   "outputs": [
    {
     "name": "stdout",
     "output_type": "stream",
     "text": [
      "0\n"
     ]
    },
    {
     "data": {
      "text/plain": [
       "[]"
      ]
     },
     "execution_count": 6,
     "metadata": {},
     "output_type": "execute_result"
    }
   ],
   "source": [
    "it_all = c.acs5.tables()\n",
    "list_o_dicks = []\n",
    "for var in it_all:\n",
    "    if 'INCOME' in var['description'] and 'UNEMPLOYMENT' in var['description']:\n",
    "        list_o_dicks.append(var)\n",
    "\n",
    "print(len(list_o_dicks))\n",
    "list_o_dicks"
   ]
  },
  {
   "cell_type": "code",
   "execution_count": null,
   "metadata": {},
   "outputs": [],
   "source": []
  }
 ],
 "metadata": {
  "kernelspec": {
   "display_name": "Python 3",
   "language": "python",
   "name": "python3"
  },
  "language_info": {
   "codemirror_mode": {
    "name": "ipython",
    "version": 3
   },
   "file_extension": ".py",
   "mimetype": "text/x-python",
   "name": "python",
   "nbconvert_exporter": "python",
   "pygments_lexer": "ipython3",
   "version": "3.7.6"
  }
 },
 "nbformat": 4,
 "nbformat_minor": 4
}
