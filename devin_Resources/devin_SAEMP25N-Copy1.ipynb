{
 "cells": [
  {
   "cell_type": "code",
   "execution_count": 1,
   "metadata": {},
   "outputs": [],
   "source": [
    "import pandas as pd\n",
    "import numpy as np\n",
    "import matplotlib.pyplot as plt\n",
    "import matplotlib.dates as mdates\n",
    "import requests\n",
    "from pprint import pprint\n",
    "from pybea.client import BureauEconomicAnalysisClient\n",
    "import datapungibea as dpb\n",
    "from datetime import datetime\n",
    "#bls_key = 'a221097743424e50a9640418bcff10bb'\n",
    "\n",
    "#initialize the new Client\n",
    "#data =dpb.data('165CE351-F1E7-4289-966F-C6002ACBD851')\n",
    "pd.set_option('display.max_rows', 500)\n",
    "pd.set_option('display.max_columns', 500)"
   ]
  },
  {
   "cell_type": "code",
   "execution_count": 2,
   "metadata": {},
   "outputs": [],
   "source": [
    "saemp69 = pd.read_csv('SAEMP25S__ALL_AREAS_1969_2001.csv')\n",
    "saemp98 = pd.read_csv('SAEMP25N__ALL_AREAS_1998_2019.csv')"
   ]
  },
  {
   "cell_type": "code",
   "execution_count": 3,
   "metadata": {},
   "outputs": [],
   "source": [
    "desc69 = saemp69['Description']\n",
    "desc69 = desc69.astype(str)\n",
    "desc98 = saemp98['Description']\n",
    "desc98 = desc98.astype(str)"
   ]
  },
  {
   "cell_type": "code",
   "execution_count": 4,
   "metadata": {},
   "outputs": [],
   "source": [
    "desc69 = pd.Series([x.strip() for x in desc69])\n",
    "desc98 = pd.Series([x.strip() for x in desc98])"
   ]
  },
  {
   "cell_type": "code",
   "execution_count": 5,
   "metadata": {},
   "outputs": [],
   "source": [
    "# desc69 = desc69.replace({'Heavy construction contractors':'Contractors',\n",
    "#                         'Agricultural services':'Agricultural services, forestry, and fishing',\n",
    "#                         'Forestry and fishing':'Agricultural services, forestry, and fishing',\n",
    "#                         'Forestry':'Agricultural services, forestry, and fishing',\n",
    "#                         'Fishing':'Agricultural services, forestry, and fishing',\n",
    "#                         'Metal mining':'Mining',\n",
    "#                         'Coal mining':'Mining',\n",
    "#                         'Insurance agents, brokers, and services':'Business services',\n",
    "#                         'Insurance carriers':'Business services',\n",
    "#                         'Real estate':'Business services',\n",
    "#                         'Finance, insurance, and real estate':'Business services',\n",
    "#                         'Other finance, insurance, and real estate':'Business services',\n",
    "#                         'Combined real estate, insurance, etc. 4/':'Business services',\n",
    "#                         'Security and commodity brokers':'Business services',\n",
    "#                         'Depository and nondepository institutions':'Business services',\n",
    "#                         'Holding and other investment offices':'Business services',\n",
    "#                         'Railroad transportation':'Transportation and public utilities',\n",
    "#                         'Transportation by air':'Transportation and public utilities',\n",
    "#                         'Water transportation': 'Transportation and public utilities',\n",
    "#                         'Electric, gas, and sanitary services':'Transportation and public utilities',\n",
    "#                         'Other transportation':'Transportation and public utilities',\n",
    "#                         'General building contractors': 'Contractors',\n",
    "#                         'Special trade contractors':'Contractors',\n",
    "#                         'Miscellaneous manufacturing industries':'Miscellaneous manufacturing',\n",
    "#                         'State and local':'Government and government enterprises',\n",
    "#                         'State government':'Government and government enterprises',\n",
    "#                         'Local government':'Government and government enterprises',\n",
    "#                         'Personal services':'Services',\n",
    "#                         'Miscellaneous services':'Services',\n",
    "#                         'Social services 5/':'Services',\n",
    "#                         'Food stores':'Retail trade',\n",
    "#                         'Apparel and accessory stores':'Retail trade',\n",
    "#                         'General merchandise stores':'Retail trade',\n",
    "#                         'Home furniture and furnishings stores':'Retail trade',\n",
    "#                         'Miscellaneous retail':'Retail trade'})"
   ]
  },
  {
   "cell_type": "code",
   "execution_count": 388,
   "metadata": {},
   "outputs": [],
   "source": [
    "desc69 = desc69.replace({'Apparel and accessory stores':'Clothing and clothing accessories stores',\n",
    "                        'Fishing':'Forestry, fishing, and related activities',\n",
    "                        'Forestry':'Forestry, fishing, and related activities',\n",
    "                        'Forestry and fishing':'Forestry, fishing, and related activities',\n",
    "                        'Insurance carriers':'Insurance carriers and related activities',\n",
    "                        'Transportation by air':'Air transportation',\n",
    "                        'Rubber and miscellaneous plastics products':'Plastics and rubber products manufacturing',\n",
    "                        'Food and kindred products':'Food manufacturing',\n",
    "                        'Apparel and other textile products':'Apparel manufacturing',\n",
    "                        'Amusement and recreation services':'Amusement, gambling, and recreation industries',\n",
    "                        'Building materials and garden equipment':'Building material and garden equipment and supplies dealers',\n",
    "                        'Motion pictures':'Motion picture and sound recording industries',\n",
    "                        'Eating and drinking places':'Food services and drinking places',\n",
    "                        'Special trade contractors':'Specialty trade contractors',\n",
    "                        'Museums, botanical, zoological gardens':'Museums, historical sites, and similar institutions',\n",
    "                        'Petroleum and coal products':'Petroleum and coal products manufacturing',\n",
    "                        'Paper and allied products':'Paper manufacturing',\n",
    "                        'Fabricated metal products':'Fabricated metal product manufacturing',\n",
    "                        'Nonmetallic minerals, except fuels':'Nonmetallic mineral product manufacturing',\n",
    "                        'Agricultural services':'Farm employment',\n",
    "                        'Agricultural services, forestry, and fishing':'Forestry, fishing, and related activities',\n",
    "                        'Automotive dealers and service stations':'Motor vehicle and parts dealers',\n",
    "                        'Automotive repair, services, and parking':'Repair and maintenance',\n",
    "                        'Business services':'Securities, commodity contracts, and other financial investments and related activities',\n",
    "                        'Chemicals and allied products':'Chemical manufacturing',\n",
    "                        'Coal mining':'Mining (except oil and gas)',\n",
    "                        'Combined real estate, insurance, etc. 4/':'Real estate and rental and leasing',\n",
    "                        'Communications':'Other information services 3/',\n",
    "                        'Depository and nondepository institutions':'Funds, trusts, and other financial vehicles',\n",
    "                        'Electric, gas, and sanitary services':'Utilities',\n",
    "                        'Electronic and other electric equipment':'Electrical equipment, appliance, and component manufacturing',\n",
    "                        'Engineering and management services 6/':'Professional, scientific, and technical services',\n",
    "                        'Finance, insurance, and real estate':'Finance and insurance',\n",
    "                        'Food stores':'Food and beverage stores',\n",
    "                        'Furniture and fixtures':'Furniture and related product manufacturing',\n",
    "                        'General building contractors':'Construction of buildings',\n",
    "                        'Health services':'Ambulatory health care services',\n",
    "                        'Heavy construction contractors':'Heavy and civil engineering construction',\n",
    "                        'Holding and other investment offices':'Securities, commodity contracts, and other financial investments and related activities',\n",
    "                        'Home furniture and furnishings stores':'Furniture and home furnishings stores',\n",
    "                        'Hotels and other lodging places':'Accommodation',\n",
    "                        'Industrial machinery and equipment':'Machinery manufacturing',\n",
    "                        'Instruments and related products':'Miscellaneous manufacturing',\n",
    "                        'Insurance agents, brokers, and services':'Insurance carriers and related activities',\n",
    "                        'Leather and leather products':'Leather and allied product manufacturing',\n",
    "                        'Legal services':'Professional, scientific, and technical services',\n",
    "                        'Local and interurban passenger transit':'Transit and ground passenger transportation',\n",
    "                        'Lumber and wood products':'Wood product manufacturing',\n",
    "                        'Membership organizations':'Amusement, gambling, and recreation industries',\n",
    "                        'Metal mining':'Mining (except oil and gas)',\n",
    "                        'Mining':'Mining (except oil and gas)',\n",
    "                        'Miscellaneous manufacturing industries':'Miscellaneous manufacturing',\n",
    "                        'Miscellaneous manufacturing|':'Miscellaneous manufacturing',\n",
    "                        'Miscellaneous repair services':'Repair and maintenance',\n",
    "                        'Miscellaneous retail':'Miscellaneous store retailers',\n",
    "                        'Miscellaneous services':'Miscellaneous store retailers',\n",
    "                        'Motor vehicles and equipment':'Motor vehicle and parts dealers',\n",
    "                        'Ordnance 3/':'Local government',\n",
    "                        'Other finance, insurance, and real estate':'Finance and insurance',\n",
    "                        'Other transportation':'Support activities for transportation',\n",
    "                        'Other transportation equipment':'Other transportation equipment manufacturing',\n",
    "                        'Personal services':'Personal and laundry services',\n",
    "                        'Pipelines, except natural gas':'Pipeline transportation',\n",
    "                        'Primary metal industries':'Primary metal manufacturing',\n",
    "                        'Printing and publishing':'Printing and related support activities',\n",
    "                        'Railroad transportation':'Rail transportation',\n",
    "                        'Security and commodity brokers':'Securities, commodity contracts, and other financial investments and related activities',\n",
    "                        'Services':'Other services (except government and government enterprises)',\n",
    "                        'Social services 5/':'Social assistance',\n",
    "                        'Stone, clay, and glass products':'Nonmetallic mineral product manufacturing',\n",
    "                        'Textile mill products':'Textile product mills',\n",
    "                        'Textile product mills #  Textile mills':'Textile product mills',\n",
    "                        'Tobacco products':'Beverage and tobacco product manufacturing',\n",
    "                        'Transportation':'Support activities for transportation',\n",
    "                        'Transportation and public utilities':'Pipeline transportation',\n",
    "                        'Transportation services':'Support activities for transportation',\n",
    "                        'Trucking and warehousing':'Transportation and warehousing'})"
   ]
  },
  {
   "cell_type": "code",
   "execution_count": 389,
   "metadata": {},
   "outputs": [],
   "source": [
    "desc69.value_counts().sort_index();"
   ]
  },
  {
   "cell_type": "code",
   "execution_count": 390,
   "metadata": {},
   "outputs": [
    {
     "data": {
      "text/plain": [
       "81"
      ]
     },
     "execution_count": 390,
     "metadata": {},
     "output_type": "execute_result"
    }
   ],
   "source": [
    "len(desc69.value_counts())"
   ]
  },
  {
   "cell_type": "code",
   "execution_count": 391,
   "metadata": {},
   "outputs": [],
   "source": [
    "list_98 = set(desc98.to_list())\n",
    "list_69 = set(desc69.to_list())"
   ]
  },
  {
   "cell_type": "code",
   "execution_count": 392,
   "metadata": {},
   "outputs": [],
   "source": [
    "diff = []\n",
    "same = []\n",
    "for cat in list_69:\n",
    "    if cat not in list_98:\n",
    "        diff.append(cat)\n",
    "    else:\n",
    "        same.append(cat)"
   ]
  },
  {
   "cell_type": "code",
   "execution_count": 393,
   "metadata": {},
   "outputs": [
    {
     "data": {
      "text/plain": [
       "[]"
      ]
     },
     "execution_count": 393,
     "metadata": {},
     "output_type": "execute_result"
    }
   ],
   "source": [
    "sorted(diff)"
   ]
  },
  {
   "cell_type": "code",
   "execution_count": 394,
   "metadata": {},
   "outputs": [
    {
     "data": {
      "text/plain": [
       "0       Total employment (number of jobs)\n",
       "1              Wage and salary employment\n",
       "2                  Proprietors employment\n",
       "3             Farm proprietors employment\n",
       "4       Nonfarm proprietors employment 2/\n",
       "                      ...                \n",
       "7079                     Local government\n",
       "7080                                  nan\n",
       "7081                                  nan\n",
       "7082                                  nan\n",
       "7083                                  nan\n",
       "Length: 7084, dtype: object"
      ]
     },
     "execution_count": 394,
     "metadata": {},
     "output_type": "execute_result"
    }
   ],
   "source": [
    "desc98"
   ]
  },
  {
   "cell_type": "code",
   "execution_count": null,
   "metadata": {},
   "outputs": [],
   "source": []
  }
 ],
 "metadata": {
  "kernelspec": {
   "display_name": "Python 3",
   "language": "python",
   "name": "python3"
  },
  "language_info": {
   "codemirror_mode": {
    "name": "ipython",
    "version": 3
   },
   "file_extension": ".py",
   "mimetype": "text/x-python",
   "name": "python",
   "nbconvert_exporter": "python",
   "pygments_lexer": "ipython3",
   "version": "3.8.3"
  }
 },
 "nbformat": 4,
 "nbformat_minor": 4
}
