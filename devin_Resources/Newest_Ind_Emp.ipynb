{
 "cells": [
  {
   "cell_type": "code",
   "execution_count": 1,
   "metadata": {},
   "outputs": [],
   "source": [
    "import pandas as pd\n",
    "import numpy as np\n",
    "import matplotlib.pyplot as plt\n",
    "import matplotlib.dates as mdates\n",
    "import requests\n",
    "from pprint import pprint\n",
    "from pybea.client import BureauEconomicAnalysisClient\n",
    "import datapungibea as dpb\n",
    "from datetime import datetime\n",
    "#bls_key = 'a221097743424e50a9640418bcff10bb'\n",
    "\n",
    "#initialize the new Client\n",
    "#data =dpb.data('165CE351-F1E7-4289-966F-C6002ACBD851')\n"
   ]
  },
  {
   "cell_type": "code",
   "execution_count": 2,
   "metadata": {},
   "outputs": [],
   "source": [
    "saemp69 = pd.read_csv('SAEMP25S__ALL_AREAS_1969_2001.csv')\n",
    "saemp98 = pd.read_csv('SAEMP25N__ALL_AREAS_1998_2019.csv')"
   ]
  },
  {
   "cell_type": "code",
   "execution_count": 3,
   "metadata": {},
   "outputs": [],
   "source": [
    "desc69 = saemp69['Description']\n",
    "desc69 = desc69.astype(str)\n",
    "desc98 = saemp98['Description']\n",
    "desc98 = desc98.astype(str)"
   ]
  },
  {
   "cell_type": "code",
   "execution_count": 4,
   "metadata": {},
   "outputs": [],
   "source": [
    "desc69 = pd.Series([x.strip() for x in desc69])\n",
    "desc98 = pd.Series([x.strip() for x in desc98])"
   ]
  },
  {
   "cell_type": "code",
   "execution_count": 5,
   "metadata": {},
   "outputs": [],
   "source": [
    "# desc69 = desc69.replace({'Heavy construction contractors':'Contractors',\n",
    "#                         'Agricultural services':'Agricultural services, forestry, and fishing',\n",
    "#                         'Forestry and fishing':'Agricultural services, forestry, and fishing',\n",
    "#                         'Forestry':'Agricultural services, forestry, and fishing',\n",
    "#                         'Fishing':'Agricultural services, forestry, and fishing',\n",
    "#                         'Metal mining':'Mining',\n",
    "#                         'Coal mining':'Mining',\n",
    "#                         'Insurance agents, brokers, and services':'Business services',\n",
    "#                         'Insurance carriers':'Business services',\n",
    "#                         'Real estate':'Business services',\n",
    "#                         'Finance, insurance, and real estate':'Business services',\n",
    "#                         'Other finance, insurance, and real estate':'Business services',\n",
    "#                         'Combined real estate, insurance, etc. 4/':'Business services',\n",
    "#                         'Security and commodity brokers':'Business services',\n",
    "#                         'Depository and nondepository institutions':'Business services',\n",
    "#                         'Holding and other investment offices':'Business services',\n",
    "#                         'Railroad transportation':'Transportation and public utilities',\n",
    "#                         'Transportation by air':'Transportation and public utilities',\n",
    "#                         'Water transportation': 'Transportation and public utilities',\n",
    "#                         'Electric, gas, and sanitary services':'Transportation and public utilities',\n",
    "#                         'Other transportation':'Transportation and public utilities',\n",
    "#                         'General building contractors': 'Contractors',\n",
    "#                         'Special trade contractors':'Contractors',\n",
    "#                         'Miscellaneous manufacturing industries':'Miscellaneous manufacturing',\n",
    "#                         'State and local':'Government and government enterprises',\n",
    "#                         'State government':'Government and government enterprises',\n",
    "#                         'Local government':'Government and government enterprises',\n",
    "#                         'Personal services':'Services',\n",
    "#                         'Miscellaneous services':'Services',\n",
    "#                         'Social services 5/':'Services',\n",
    "#                         'Food stores':'Retail trade',\n",
    "#                         'Apparel and accessory stores':'Retail trade',\n",
    "#                         'General merchandise stores':'Retail trade',\n",
    "#                         'Home furniture and furnishings stores':'Retail trade',\n",
    "#                         'Miscellaneous retail':'Retail trade'})"
   ]
  },
  {
   "cell_type": "code",
   "execution_count": 6,
   "metadata": {},
   "outputs": [],
   "source": [
    "desc69 = desc69.replace({'Apparel and accessory stores':'Clothing and clothing accessories stores',\n",
    "                        'Fishing':'Forestry, fishing, and related activities',\n",
    "                        'Forestry':'Forestry, fishing, and related activities',\n",
    "                        'Forestry and fishing':'Forestry, fishing, and related activities',\n",
    "                        'Insurance carriers':'Insurance carriers and related activities',\n",
    "                        'Transportation by air':'Air transportation',\n",
    "                        'Rubber and miscellaneous plastics products':'Plastics and rubber products manufacturing',\n",
    "                        'Food and kindred products':'Food manufacturing',\n",
    "                        'Apparel and other textile products':'Apparel manufacturing',\n",
    "                        'Amusement and recreation services':'Amusement, gambling, and recreation industries',\n",
    "                        'Building materials and garden equipment':'Building material and garden equipment and supplies dealers',\n",
    "                        'Motion pictures':'Motion picture and sound recording industries',\n",
    "                        'Eating and drinking places':'Food services and drinking places',\n",
    "                        'Special trade contractors':'Specialty trade contractors',\n",
    "                        'Museums, botanical, zoological gardens':'Museums, historical sites, and similar institutions',\n",
    "                        'Petroleum and coal products':'Petroleum and coal products manufacturing',\n",
    "                        'Paper and allied products':'Paper manufacturing',\n",
    "                        'Fabricated metal products':'Fabricated metal product manufacturing',\n",
    "                        'Nonmetallic minerals, except fuels':'Nonmetallic mineral product manufacturing',\n",
    "                        'Agricultural services':'Farm employment',\n",
    "                        'Agricultural services, forestry, and fishing':'Forestry, fishing, and related activities',\n",
    "                        'Automotive dealers and service stations':'Motor vehicle and parts dealers',\n",
    "                        'Automotive repair, services, and parking':'Repair and maintenance',\n",
    "                        'Business services':'Securities, commodity contracts, and other financial investments and related activities',\n",
    "                        'Chemicals and allied products':'Chemical manufacturing',\n",
    "                        'Coal mining':'Mining (except oil and gas)',\n",
    "                        'Combined real estate, insurance, etc. 4/':'Real estate and rental and leasing',\n",
    "                        'Communications':'Other information services 3/',\n",
    "                        'Depository and nondepository institutions':'Funds, trusts, and other financial vehicles',\n",
    "                        'Electric, gas, and sanitary services':'Utilities',\n",
    "                        'Electronic and other electric equipment':'Electrical equipment, appliance, and component manufacturing',\n",
    "                        'Engineering and management services 6/':'Professional, scientific, and technical services',\n",
    "                        'Finance, insurance, and real estate':'Finance and insurance',\n",
    "                        'Food stores':'Food and beverage stores',\n",
    "                        'Furniture and fixtures':'Furniture and related product manufacturing',\n",
    "                        'General building contractors':'Construction of buildings',\n",
    "                        'Health services':'Ambulatory health care services',\n",
    "                        'Heavy construction contractors':'Heavy and civil engineering construction',\n",
    "                        'Holding and other investment offices':'Securities, commodity contracts, and other financial investments and related activities',\n",
    "                        'Home furniture and furnishings stores':'Furniture and home furnishings stores',\n",
    "                        'Hotels and other lodging places':'Accommodation',\n",
    "                        'Industrial machinery and equipment':'Machinery manufacturing',\n",
    "                        'Instruments and related products':'Miscellaneous manufacturing',\n",
    "                        'Insurance agents, brokers, and services':'Insurance carriers and related activities',\n",
    "                        'Leather and leather products':'Leather and allied product manufacturing',\n",
    "                        'Legal services':'Professional, scientific, and technical services',\n",
    "                        'Local and interurban passenger transit':'Transit and ground passenger transportation',\n",
    "                        'Lumber and wood products':'Wood product manufacturing',\n",
    "                        'Membership organizations':'Amusement, gambling, and recreation industries',\n",
    "                        'Metal mining':'Mining (except oil and gas)',\n",
    "                        'Mining':'Mining (except oil and gas)',\n",
    "                        'Miscellaneous manufacturing industries':'Miscellaneous manufacturing',\n",
    "                        'Miscellaneous manufacturing|':'Miscellaneous manufacturing',\n",
    "                        'Miscellaneous repair services':'Repair and maintenance',\n",
    "                        'Miscellaneous retail':'Miscellaneous store retailers',\n",
    "                        'Miscellaneous services':'Miscellaneous store retailers',\n",
    "                        'Motor vehicles and equipment':'Motor vehicle and parts dealers',\n",
    "                        'Ordnance 3/':'Local government',\n",
    "                        'Other finance, insurance, and real estate':'Finance and insurance',\n",
    "                        'Other transportation':'Support activities for transportation',\n",
    "                        'Other transportation equipment':'Other transportation equipment manufacturing',\n",
    "                        'Personal services':'Personal and laundry services',\n",
    "                        'Pipelines, except natural gas':'Pipeline transportation',\n",
    "                        'Primary metal industries':'Primary metal manufacturing',\n",
    "                        'Printing and publishing':'Printing and related support activities',\n",
    "                        'Railroad transportation':'Rail transportation',\n",
    "                        'Security and commodity brokers':'Securities, commodity contracts, and other financial investments and related activities',\n",
    "                        'Services':'Other services (except government and government enterprises)',\n",
    "                        'Social services 5/':'Social assistance',\n",
    "                        'Stone, clay, and glass products':'Nonmetallic mineral product manufacturing',\n",
    "                        'Textile mill products':'Textile product mills',\n",
    "                        'Textile product mills #  Textile mills':'Textile product mills',\n",
    "                        'Tobacco products':'Beverage and tobacco product manufacturing',\n",
    "                        'Transportation':'Support activities for transportation',\n",
    "                        'Transportation and public utilities':'Pipeline transportation',\n",
    "                        'Transportation services':'Support activities for transportation',\n",
    "                        'Trucking and warehousing':'Transportation and warehousing'})"
   ]
  },
  {
   "cell_type": "code",
   "execution_count": 7,
   "metadata": {},
   "outputs": [],
   "source": []
  },
  {
   "cell_type": "code",
   "execution_count": 8,
   "metadata": {},
   "outputs": [
    {
     "data": {
      "text/plain": [
       "81"
      ]
     },
     "execution_count": 8,
     "metadata": {},
     "output_type": "execute_result"
    }
   ],
   "source": []
  },
  {
   "cell_type": "code",
   "execution_count": 9,
   "metadata": {},
   "outputs": [],
   "source": [
    "list_98 = set(desc98.to_list())\n",
    "list_69 = set(desc69.to_list())"
   ]
  },
  {
   "cell_type": "code",
   "execution_count": 10,
   "metadata": {},
   "outputs": [],
   "source": [
    "diff = []\n",
    "same = []\n",
    "for cat in list_69:\n",
    "    if cat not in list_98:\n",
    "        diff.append(cat)\n",
    "    else:\n",
    "        same.append(cat)"
   ]
  },
  {
   "cell_type": "code",
   "execution_count": 262,
   "metadata": {},
   "outputs": [],
   "source": [
    "saemp69_c = saemp69.copy().copy()\n",
    "saemp98_c = saemp98.copy().copy()"
   ]
  },
  {
   "cell_type": "code",
   "execution_count": 263,
   "metadata": {},
   "outputs": [],
   "source": [
    "saemp69_c['Description']=saemp69_c['Description'].str.strip()\n",
    "saemp98_c['Description'] = saemp98_c['Description'].str.strip()"
   ]
  },
  {
   "cell_type": "code",
   "execution_count": 264,
   "metadata": {},
   "outputs": [],
   "source": [
    "saemp69_c = saemp69_c.replace({'Description':{'Apparel and accessory stores':'Clothing and clothing accessories stores',\n",
    "                        'Fishing':'Forestry, fishing, and related activities',\n",
    "                        'Forestry':'Forestry, fishing, and related activities',\n",
    "                        'Forestry and fishing':'Forestry, fishing, and related activities',\n",
    "                        'Insurance carriers':'Insurance carriers and related activities',\n",
    "                        'Transportation by air':'Air transportation',\n",
    "                        'Rubber and miscellaneous plastics products':'Plastics and rubber products manufacturing',\n",
    "                        'Food and kindred products':'Food manufacturing',\n",
    "                        'Apparel and other textile products':'Apparel manufacturing',\n",
    "                        'Amusement and recreation services':'Amusement, gambling, and recreation industries',\n",
    "                        'Building materials and garden equipment':'Building material and garden equipment and supplies dealers',\n",
    "                        'Motion pictures':'Motion picture and sound recording industries',\n",
    "                        'Eating and drinking places':'Food services and drinking places',\n",
    "                        'Special trade contractors':'Specialty trade contractors',\n",
    "                        'Museums, botanical, zoological gardens':'Museums, historical sites, and similar institutions',\n",
    "                        'Petroleum and coal products':'Petroleum and coal products manufacturing',\n",
    "                        'Paper and allied products':'Paper manufacturing',\n",
    "                        'Fabricated metal products':'Fabricated metal product manufacturing',\n",
    "                        'Nonmetallic minerals, except fuels':'Nonmetallic mineral product manufacturing',\n",
    "                        'Agricultural services':'Farm employment',\n",
    "                        'Agricultural services, forestry, and fishing':'Forestry, fishing, and related activities',\n",
    "                        'Automotive dealers and service stations':'Motor vehicle and parts dealers',\n",
    "                        'Automotive repair, services, and parking':'Repair and maintenance',\n",
    "                        'Business services':'Securities, commodity contracts, and other financial investments and related activities',\n",
    "                        'Chemicals and allied products':'Chemical manufacturing',\n",
    "                        'Coal mining':'Mining (except oil and gas)',\n",
    "                        'Combined real estate, insurance, etc. 4/':'Real estate and rental and leasing',\n",
    "                        'Communications':'Other information services 3/',\n",
    "                        'Depository and nondepository institutions':'Funds, trusts, and other financial vehicles',\n",
    "                        'Electric, gas, and sanitary services':'Utilities',\n",
    "                        'Electronic and other electric equipment':'Electrical equipment, appliance, and component manufacturing',\n",
    "                        'Engineering and management services 6/':'Professional, scientific, and technical services',\n",
    "                        'Finance, insurance, and real estate':'Finance and insurance',\n",
    "                        'Food stores':'Food and beverage stores',\n",
    "                        'Furniture and fixtures':'Furniture and related product manufacturing',\n",
    "                        'General building contractors':'Construction of buildings',\n",
    "                        'Health services':'Ambulatory health care services',\n",
    "                        'Heavy construction contractors':'Heavy and civil engineering construction',\n",
    "                        'Holding and other investment offices':'Securities, commodity contracts, and other financial investments and related activities',\n",
    "                        'Home furniture and furnishings stores':'Furniture and home furnishings stores',\n",
    "                        'Hotels and other lodging places':'Accommodation',\n",
    "                        'Industrial machinery and equipment':'Machinery manufacturing',\n",
    "                        'Instruments and related products':'Miscellaneous manufacturing',\n",
    "                        'Insurance agents, brokers, and services':'Insurance carriers and related activities',\n",
    "                        'Leather and leather products':'Leather and allied product manufacturing',\n",
    "                        'Legal services':'Professional, scientific, and technical services',\n",
    "                        'Local and interurban passenger transit':'Transit and ground passenger transportation',\n",
    "                        'Lumber and wood products':'Wood product manufacturing',\n",
    "                        'Membership organizations':'Amusement, gambling, and recreation industries',\n",
    "                        'Metal mining':'Mining (except oil and gas)',\n",
    "                        'Mining':'Mining (except oil and gas)',\n",
    "                        'Miscellaneous manufacturing industries':'Miscellaneous manufacturing',\n",
    "                        'Miscellaneous manufacturing|':'Miscellaneous manufacturing',\n",
    "                        'Miscellaneous repair services':'Repair and maintenance',\n",
    "                        'Miscellaneous retail':'Miscellaneous store retailers',\n",
    "                        'Miscellaneous services':'Miscellaneous store retailers',\n",
    "                        'Motor vehicles and equipment':'Motor vehicle and parts dealers',\n",
    "                        'Ordnance 3/':'Local government',\n",
    "                        'Other finance, insurance, and real estate':'Finance and insurance',\n",
    "                        'Other transportation':'Support activities for transportation',\n",
    "                        'Other transportation equipment':'Other transportation equipment manufacturing',\n",
    "                        'Personal services':'Personal and laundry services',\n",
    "                        'Pipelines, except natural gas':'Pipeline transportation',\n",
    "                        'Primary metal industries':'Primary metal manufacturing',\n",
    "                        'Printing and publishing':'Printing and related support activities',\n",
    "                        'Railroad transportation':'Rail transportation',\n",
    "                        'Security and commodity brokers':'Securities, commodity contracts, and other financial investments and related activities',\n",
    "                        'Services':'Other services (except government and government enterprises)',\n",
    "                        'Social services 5/':'Social assistance',\n",
    "                        'Stone, clay, and glass products':'Nonmetallic mineral product manufacturing',\n",
    "                        'Textile mill products':'Textile product mills',\n",
    "                        'Textile product mills #  Textile mills':'Textile product mills',\n",
    "                        'Tobacco products':'Beverage and tobacco product manufacturing',\n",
    "                        'Transportation':'Support activities for transportation',\n",
    "                        'Transportation and public utilities':'Pipeline transportation',\n",
    "                        'Transportation services':'Support activities for transportation',\n",
    "                        'Trucking and warehousing':'Transportation and warehousing'}})"
   ]
  },
  {
   "cell_type": "code",
   "execution_count": 265,
   "metadata": {},
   "outputs": [],
   "source": [
    "saemp98_c = saemp98_c.drop(['1998','1999','2000','2001','TableName'],axis = 1)\n",
    "saemp69_c = saemp69_c.drop('TableName',axis = 1)\n",
    "saemp69_c=saemp69_c.astype(object)\n",
    "saemp98_c=saemp98_c.astype(object)"
   ]
  },
  {
   "cell_type": "code",
   "execution_count": null,
   "metadata": {},
   "outputs": [],
   "source": []
  },
  {
   "cell_type": "code",
   "execution_count": 266,
   "metadata": {},
   "outputs": [],
   "source": [
    "full_merged = pd.merge(saemp69_c.dropna(),saemp98_c.dropna(),how = 'outer',on =['GeoFIPS', 'GeoName', 'Region', 'LineCode', 'IndustryClassification', 'Description','Unit'])"
   ]
  },
  {
   "cell_type": "code",
   "execution_count": 267,
   "metadata": {},
   "outputs": [],
   "source": [
    "full_merged_1 = full_merged.copy()"
   ]
  },
  {
   "cell_type": "code",
   "execution_count": 268,
   "metadata": {},
   "outputs": [],
   "source": [
    "full_merged_1 = full_merged_1.replace({'Description': {'Accommodation':'Accommodation and food services',\n",
    "                                                  'Construction of buildings':'Construction',\n",
    "                                                  'Forestry and logging':'Forestry, fishing, and related activities',\n",
    "                                                      'Fishing, hunting and trapping':'Forestry, fishing, and related activities',\n",
    "                                                      'Mining (except oil and gas)':'Mining, quarrying, and oil and gas extraction',\n",
    "                                                      'Administrative and support services':'Administrative and support and waste management and remediation services',\n",
    "                                                       'Waste management and remediation services':'Administrative and support and waste management and remediation services',\n",
    "                                                      'Amusement, gambling, and recreation industries':'Arts, entertainment, and recreation',\n",
    "                                                      'Performing arts, spectator sports, and related industries':'Arts, entertainment, and recreation'}})"
   ]
  },
  {
   "cell_type": "code",
   "execution_count": 340,
   "metadata": {},
   "outputs": [],
   "source": [
    "#maybe build function for anystate\n",
    "Alabama_Ex = full_merged_1[(full_merged_1['GeoName'] == 'Alabama')]\n",
    "California_ex = full_merged_1[full_merged_1['GeoName'] == 'California']\n",
    "NewYork_ex = full_merged_1[full_merged_1['GeoName'] == 'New York']"
   ]
  },
  {
   "cell_type": "code",
   "execution_count": 341,
   "metadata": {},
   "outputs": [],
   "source": [
    "cali_tot_emp = pd.DataFrame(California_ex[California_ex['Description'] == 'Total employment (number of jobs)'][['1969', '1970', '1971', '1972', '1973', '1974',\n",
    "       '1975', '1976', '1977', '1978', '1979', '1980', '1981', '1982', '1983',\n",
    "       '1984', '1985', '1986', '1987', '1988', '1989', '1990', '1991', '1992',\n",
    "       '1993', '1994', '1995', '1996', '1997', '1998', '1999', '2000', '2001',\n",
    "       '2002', '2003', '2004', '2005', '2006', '2007', '2008', '2009', '2010',\n",
    "       '2011', '2012', '2013', '2014', '2015', '2016', '2017', '2018', '2019']].astype(int).stack().reset_index()[['level_1',0]])\n",
    "cali_tot_emp = cali_tot_emp.rename(columns = {'level_1': 'Years', 0:'Job Number'}).set_index('Years')\n",
    "#cali_tot_emp = cali_tot_emp.index.astype(datetime)"
   ]
  },
  {
   "cell_type": "code",
   "execution_count": 356,
   "metadata": {},
   "outputs": [
    {
     "data": {
      "image/png": "[encoded data removed]",
      "text/plain": [
       "<Figure size 1080x1080 with 1 Axes>"
      ]
     },
     "metadata": {
      "needs_background": "light"
     },
     "output_type": "display_data"
    }
   ],
   "source": [
    "fig, ax = plt.subplots(figsize = (15,15))\n",
    "ax.plot(cali_tot_emp.index,cali_tot_emp['Job Number'])\n",
    "ax.tick_params(axis = 'x',labelrotation=-45)\n",
    "ax.xaxis.set_major_locator(plt.MaxNLocator(50))\n",
    "\n"
   ]
  },
  {
   "cell_type": "code",
   "execution_count": null,
   "metadata": {},
   "outputs": [],
   "source": []
  }
 ],
 "metadata": {
  "kernelspec": {
   "display_name": "Python 3",
   "language": "python",
   "name": "python3"
  },
  "language_info": {
   "codemirror_mode": {
    "name": "ipython",
    "version": 3
   },
   "file_extension": ".py",
   "mimetype": "text/x-python",
   "name": "python",
   "nbconvert_exporter": "python",
   "pygments_lexer": "ipython3",
   "version": "3.7.6"
  }
 },
 "nbformat": 4,
 "nbformat_minor": 4
}
