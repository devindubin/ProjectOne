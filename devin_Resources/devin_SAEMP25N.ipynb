{
 "cells": [
  {
   "cell_type": "code",
   "execution_count": null,
   "metadata": {},
   "outputs": [],
   "source": []
  },
  {
   "cell_type": "code",
   "execution_count": 1,
   "metadata": {},
   "outputs": [],
   "source": [
    "import pandas as pd\n",
    "import numpy as np\n",
    "import matplotlib.pyplot as plt\n",
    "import matplotlib.dates as mdates\n",
    "import requests\n",
    "from pprint import pprint\n",
    "from pybea.client import BureauEconomicAnalysisClient\n",
    "import datapungibea as dpb\n",
    "from datetime import datetime\n",
    "#bls_key = 'a221097743424e50a9640418bcff10bb'\n",
    "\n",
    "#initialize the new Client\n",
    "#data =dpb.data('165CE351-F1E7-4289-966F-C6002ACBD851')\n",
    "pd.set_option('display.max_rows', 500)\n",
    "pd.set_option('display.max_columns', 500)"
   ]
  },
  {
   "cell_type": "code",
   "execution_count": 18,
   "metadata": {},
   "outputs": [],
   "source": [
    "saemp69 = pd.read_csv('SAEMP25S__ALL_AREAS_1969_2001.csv')\n",
    "saemp98 = pd.read_csv('SAEMP25N__ALL_AREAS_1998_2019.csv')"
   ]
  },
  {
   "cell_type": "code",
   "execution_count": 38,
   "metadata": {},
   "outputs": [],
   "source": [
    "desc69 = saemp69['Description']"
   ]
  },
  {
   "cell_type": "code",
   "execution_count": 107,
   "metadata": {},
   "outputs": [],
   "source": [
    "desc69 = desc69.replace({'    Heavy construction contractors':'   Construction',\n",
    "                        '    Agricultural services':'   Agricultural services, forestry, and fishing',\n",
    "                        '    Forestry and fishing':'   Agricultural services, forestry, and fishing',\n",
    "                        '     Forestry':'   Agricultural services, forestry, and fishing',\n",
    "                        '     Fishing':'   Agricultural services, forestry, and fishing',\n",
    "                        '    Metal mining':'   Mining','    Coal mining':'   Mining',\n",
    "                        '     Insurance agents, brokers, and services':'    Business services',\n",
    "                        '     Insurance carriers':'    Business services',\n",
    "                         '     Real estate':'    Business services',\n",
    "                        '   Finance, insurance, and real estate':'    Business services',\n",
    "                        '    Other finance, insurance, and real estate':'    Business services',\n",
    "                         '     Combined real estate, insurance, etc. 4/':'    Business services',\n",
    "                         '     Security and commodity brokers':'    Business services',\n",
    "                         '    Depository and nondepository institutions':'    Business services',\n",
    "                         '     Holding and other investment offices':'    Business services',\n",
    "                        '    Railroad transportation':'   Transportation and public utilities',\n",
    "                        '    General building contractors': 'Contractors',\n",
    "                        '    Special trade contractors':'Contractors',\n",
    "                        '    Durable goods manufacturing':'   Manufacturing',\n",
    "                        '     Miscellaneous manufacturing industries':'   Manufacturing',\n",
    "                        '    Nondurable goods manufacturing':'   Manufacturing',\n",
    "                        '   State and local':'  Government and government enterprises',\n",
    "                        '    State government':'  Government and government enterprises',\n",
    "                        '    Local government':'  Government and government enterprises',\n",
    "                        '    Personal services':'   Services',\n",
    "                        '    Miscellaneous services':'   Services',\n",
    "                        '    Social services 5/':'   Services'})"
   ]
  },
  {
   "cell_type": "code",
   "execution_count": 108,
   "metadata": {},
   "outputs": [
    {
     "data": {
      "text/plain": [
       "    Business services                              600\n",
       "   Agricultural services, forestry, and fishing    300\n",
       "   Manufacturing                                   240\n",
       "   Services                                        240\n",
       "  Government and government enterprises            240\n",
       "   Mining                                          180\n",
       "   Transportation and public utilities             120\n",
       "   Construction                                    120\n",
       "Contractors                                        120\n",
       "     Printing and publishing                        60\n",
       "    Membership organizations                        60\n",
       "    Eating and drinking places                      60\n",
       "    Other transportation                            60\n",
       "     Pipelines, except natural gas                  60\n",
       "     Industrial machinery and equipment             60\n",
       "    Automotive dealers and service stations         60\n",
       "    Legal services                                  60\n",
       "     Ordnance 3/                                    60\n",
       "     Stone, clay, and glass products                60\n",
       "     Paper and allied products                      60\n",
       "     Fabricated metal products                      60\n",
       "    Museums, botanical, zoological gardens          60\n",
       " Proprietors employment                             60\n",
       "    Nonmetallic minerals, except fuels              60\n",
       "   Military                                         60\n",
       "    Trucking and warehousing                        60\n",
       "   Retail trade                                     60\n",
       "     Furniture and fixtures                         60\n",
       "   Federal civilian                                 60\n",
       "    Hotels and other lodging places                 60\n",
       "    Miscellaneous retail                            60\n",
       "    Apparel and accessory stores                    60\n",
       "     Rubber and miscellaneous plastics products     60\n",
       "     Lumber and wood products                       60\n",
       "    Water transportation                            60\n",
       " Wage and salary employment                         60\n",
       "     Instruments and related products               60\n",
       "     Food and kindred products                      60\n",
       "Total employment (number of jobs)                   60\n",
       "     Local and interurban passenger transit         60\n",
       "     Primary metal industries                       60\n",
       "  Farm proprietors employment                       60\n",
       "    Health services                                 60\n",
       "     Tobacco products                               60\n",
       "  Nonfarm proprietors employment 2/                 60\n",
       "     Leather and leather products                   60\n",
       "    Oil and gas extraction                          60\n",
       "    General merchandise stores                      60\n",
       "    Electric, gas, and sanitary services            60\n",
       "     Petroleum and coal products                    60\n",
       "     Transportation services                        60\n",
       "     Motor vehicles and equipment                   60\n",
       "     Textile mill products                          60\n",
       "     Chemicals and allied products                  60\n",
       "    Private households                              60\n",
       "     Electronic and other electric equipment        60\n",
       " Nonfarm employment                                 60\n",
       "     Other transportation equipment                 60\n",
       "  Private nonfarm employment                        60\n",
       "     Transportation by air                          60\n",
       "    Miscellaneous repair services                   60\n",
       "    Educational services                            60\n",
       "    Home furniture and furnishings stores           60\n",
       "     Apparel and other textile products             60\n",
       " Farm employment                                    60\n",
       "    Communications                                  60\n",
       "   Wholesale trade                                  60\n",
       "    Food stores                                     60\n",
       "    Automotive repair, services, and parking        60\n",
       "    Building materials and garden equipment         60\n",
       "    Engineering and management services 6/          60\n",
       "    Motion pictures                                 60\n",
       "    Amusement and recreation services               60\n",
       "Name: Description, dtype: int64"
      ]
     },
     "execution_count": 108,
     "metadata": {},
     "output_type": "execute_result"
    }
   ],
   "source": [
    "desc69.value_counts()"
   ]
  },
  {
   "cell_type": "code",
   "execution_count": 109,
   "metadata": {},
   "outputs": [
    {
     "data": {
      "text/plain": [
       "array(['Total employment (number of jobs)', ' Wage and salary employment',\n",
       "       ' Proprietors employment', '  Farm proprietors employment',\n",
       "       '  Nonfarm proprietors employment 2/', ' Farm employment',\n",
       "       ' Nonfarm employment', '  Private nonfarm employment',\n",
       "       '   Agricultural services, forestry, and fishing', '   Mining',\n",
       "       '    Oil and gas extraction',\n",
       "       '    Nonmetallic minerals, except fuels', '   Construction',\n",
       "       'Contractors', '   Manufacturing', '     Lumber and wood products',\n",
       "       '     Furniture and fixtures',\n",
       "       '     Stone, clay, and glass products',\n",
       "       '     Primary metal industries', '     Fabricated metal products',\n",
       "       '     Industrial machinery and equipment',\n",
       "       '     Electronic and other electric equipment',\n",
       "       '     Motor vehicles and equipment',\n",
       "       '     Other transportation equipment',\n",
       "       '     Instruments and related products', '     Ordnance 3/',\n",
       "       '     Food and kindred products', '     Tobacco products',\n",
       "       '     Textile mill products',\n",
       "       '     Apparel and other textile products',\n",
       "       '     Paper and allied products', '     Printing and publishing',\n",
       "       '     Chemicals and allied products',\n",
       "       '     Petroleum and coal products',\n",
       "       '     Rubber and miscellaneous plastics products',\n",
       "       '     Leather and leather products',\n",
       "       '   Transportation and public utilities',\n",
       "       '    Trucking and warehousing', '    Water transportation',\n",
       "       '    Other transportation',\n",
       "       '     Local and interurban passenger transit',\n",
       "       '     Transportation by air', '     Pipelines, except natural gas',\n",
       "       '     Transportation services', '    Communications',\n",
       "       '    Electric, gas, and sanitary services', '   Wholesale trade',\n",
       "       '   Retail trade', '    Building materials and garden equipment',\n",
       "       '    General merchandise stores', '    Food stores',\n",
       "       '    Automotive dealers and service stations',\n",
       "       '    Apparel and accessory stores',\n",
       "       '    Home furniture and furnishings stores',\n",
       "       '    Eating and drinking places', '    Miscellaneous retail',\n",
       "       '    Business services', '   Services',\n",
       "       '    Hotels and other lodging places', '    Private households',\n",
       "       '    Automotive repair, services, and parking',\n",
       "       '    Miscellaneous repair services',\n",
       "       '    Amusement and recreation services', '    Motion pictures',\n",
       "       '    Health services', '    Legal services',\n",
       "       '    Educational services',\n",
       "       '    Museums, botanical, zoological gardens',\n",
       "       '    Membership organizations',\n",
       "       '    Engineering and management services 6/',\n",
       "       '  Government and government enterprises', '   Federal civilian',\n",
       "       '   Military', nan], dtype=object)"
      ]
     },
     "execution_count": 109,
     "metadata": {},
     "output_type": "execute_result"
    }
   ],
   "source": [
    "desc69.unique()"
   ]
  },
  {
   "cell_type": "code",
   "execution_count": 116,
   "metadata": {},
   "outputs": [],
   "source": [
    "# sn = 'LNS12000000'\n",
    "# yearX = 1948\n",
    "# yearY = 1967\n",
    "\n",
    "# payload = {'seriesid':sn,\n",
    "#           'startyear':yearX,\n",
    "#           'endyear':yearY,\n",
    "#           'registrationkey':bls_key}\n",
    "# #url = f'https://api.bls.gov/publicAPI/v2/timeseries/data/json?registrationkey={bls_key}&seriesid={sn}&startyear={yearX}&endyear={yearY}'\n",
    "# url = f'https://api.bls.gov/publicAPI/v2/timeseries/data/json?{payload}'\n",
    "# response = requests.post(url,payload).json()"
   ]
  },
  {
   "cell_type": "code",
   "execution_count": 117,
   "metadata": {},
   "outputs": [],
   "source": [
    "#df_48_67 = pd.DataFrame(response['Results']['series'][0]['data'])"
   ]
  },
  {
   "cell_type": "code",
   "execution_count": 110,
   "metadata": {},
   "outputs": [],
   "source": [
    "# df_08_20=df_08_20[['year','period','periodName','value']]\n",
    "# df_08_20;"
   ]
  },
  {
   "cell_type": "code",
   "execution_count": 111,
   "metadata": {},
   "outputs": [],
   "source": [
    "# df_88_07 = df_88_07[['year','period','periodName','value']]\n",
    "# df_88_07;"
   ]
  },
  {
   "cell_type": "code",
   "execution_count": 112,
   "metadata": {},
   "outputs": [],
   "source": [
    "# df_68_87 =df_68_87[['year','period','periodName','value']]\n",
    "#df_68_87;"
   ]
  },
  {
   "cell_type": "code",
   "execution_count": 113,
   "metadata": {},
   "outputs": [],
   "source": [
    "# df_48_67 = df_48_67[['year','period','periodName','value']]\n",
    "# df_48_67;"
   ]
  },
  {
   "cell_type": "code",
   "execution_count": 114,
   "metadata": {},
   "outputs": [],
   "source": [
    "# combined_bls_data = pd.concat([df_08_20,df_88_07,df_68_87,df_48_67])\n",
    "# combined_bls_data = combined_bls_data.sort_values(by = ['year','period'])\n",
    "# combined_bls_data;"
   ]
  },
  {
   "cell_type": "code",
   "execution_count": 34,
   "metadata": {},
   "outputs": [],
   "source": [
    "# fig, ax = plt.subplots( figsize = (10,10))\n",
    "# ax.plot(combined_bls_data.year,combined_bls_data.value)\n",
    "# ax.set_xticks([]);\n"
   ]
  },
  {
   "cell_type": "code",
   "execution_count": 115,
   "metadata": {},
   "outputs": [],
   "source": [
    "#combined_bls_data[['year','value']].plot();"
   ]
  },
  {
   "cell_type": "code",
   "execution_count": null,
   "metadata": {},
   "outputs": [],
   "source": []
  }
 ],
 "metadata": {
  "kernelspec": {
   "display_name": "Python 3",
   "language": "python",
   "name": "python3"
  },
  "language_info": {
   "codemirror_mode": {
    "name": "ipython",
    "version": 3
   },
   "file_extension": ".py",
   "mimetype": "text/x-python",
   "name": "python",
   "nbconvert_exporter": "python",
   "pygments_lexer": "ipython3",
   "version": "3.7.6"
  }
 },
 "nbformat": 4,
 "nbformat_minor": 4
}
