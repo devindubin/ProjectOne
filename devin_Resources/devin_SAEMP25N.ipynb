{
 "cells": [
  {
   "cell_type": "code",
   "execution_count": 2,
   "metadata": {},
   "outputs": [],
   "source": [
    "import pandas as pd\n",
    "import numpy as np\n",
    "import matplotlib.pyplot as plt\n",
    "import matplotlib.dates as mdates\n",
    "import requests\n",
    "from pprint import pprint\n",
    "from pybea.client import BureauEconomicAnalysisClient\n",
    "import datapungibea as dpb\n",
    "from datetime import datetime\n",
    "#bls_key = 'a221097743424e50a9640418bcff10bb'\n",
    "\n",
    "#initialize the new Client\n",
    "#data =dpb.data('165CE351-F1E7-4289-966F-C6002ACBD851')\n",
    "pd.set_option('display.max_rows', 500)\n",
    "pd.set_option('display.max_columns', 500)"
   ]
  },
  {
   "cell_type": "code",
   "execution_count": 74,
   "metadata": {},
   "outputs": [],
   "source": [
    "saemp69 = pd.read_csv('SAEMP25S__ALL_AREAS_1969_2001.csv')\n",
    "saemp98 = pd.read_csv('SAEMP25N__ALL_AREAS_1998_2019.csv')"
   ]
  },
  {
   "cell_type": "code",
   "execution_count": 4,
   "metadata": {},
   "outputs": [],
   "source": [
    "desc69 = saemp69['Description']\n",
    "desc69 = desc69.astype(str)\n",
    "desc98 = saemp98['Description']\n",
    "desc98 = desc98.astype(str)"
   ]
  },
  {
   "cell_type": "code",
   "execution_count": 5,
   "metadata": {},
   "outputs": [],
   "source": [
    "desc69 = pd.Series([x.strip() for x in desc69])\n",
    "desc98 = pd.Series([x.strip() for x in desc98])"
   ]
  },
  {
   "cell_type": "code",
   "execution_count": 6,
   "metadata": {},
   "outputs": [],
   "source": [
    "# desc69 = desc69.replace({'Heavy construction contractors':'Contractors',\n",
    "#                         'Agricultural services':'Agricultural services, forestry, and fishing',\n",
    "#                         'Forestry and fishing':'Agricultural services, forestry, and fishing',\n",
    "#                         'Forestry':'Agricultural services, forestry, and fishing',\n",
    "#                         'Fishing':'Agricultural services, forestry, and fishing',\n",
    "#                         'Metal mining':'Mining',\n",
    "#                         'Coal mining':'Mining',\n",
    "#                         'Insurance agents, brokers, and services':'Business services',\n",
    "#                         'Insurance carriers':'Business services',\n",
    "#                         'Real estate':'Business services',\n",
    "#                         'Finance, insurance, and real estate':'Business services',\n",
    "#                         'Other finance, insurance, and real estate':'Business services',\n",
    "#                         'Combined real estate, insurance, etc. 4/':'Business services',\n",
    "#                         'Security and commodity brokers':'Business services',\n",
    "#                         'Depository and nondepository institutions':'Business services',\n",
    "#                         'Holding and other investment offices':'Business services',\n",
    "#                         'Railroad transportation':'Transportation and public utilities',\n",
    "#                         'Transportation by air':'Transportation and public utilities',\n",
    "#                         'Water transportation': 'Transportation and public utilities',\n",
    "#                         'Electric, gas, and sanitary services':'Transportation and public utilities',\n",
    "#                         'Other transportation':'Transportation and public utilities',\n",
    "#                         'General building contractors': 'Contractors',\n",
    "#                         'Special trade contractors':'Contractors',\n",
    "#                         'Miscellaneous manufacturing industries':'Miscellaneous manufacturing',\n",
    "#                         'State and local':'Government and government enterprises',\n",
    "#                         'State government':'Government and government enterprises',\n",
    "#                         'Local government':'Government and government enterprises',\n",
    "#                         'Personal services':'Services',\n",
    "#                         'Miscellaneous services':'Services',\n",
    "#                         'Social services 5/':'Services',\n",
    "#                         'Food stores':'Retail trade',\n",
    "#                         'Apparel and accessory stores':'Retail trade',\n",
    "#                         'General merchandise stores':'Retail trade',\n",
    "#                         'Home furniture and furnishings stores':'Retail trade',\n",
    "#                         'Miscellaneous retail':'Retail trade'})"
   ]
  },
  {
   "cell_type": "code",
   "execution_count": 67,
   "metadata": {},
   "outputs": [],
   "source": [
    "desc69 = desc69.replace({'Apparel and accessory stores':'Clothing and clothing accessories stores',\n",
    "                        'Fishing':'Forestry, fishing, and related activities',\n",
    "                        'Forestry':'Forestry, fishing, and related activities',\n",
    "                        'Forestry and fishing':'Forestry, fishing, and related activities',\n",
    "                        'Insurance carriers':'Insurance carriers and related activities',\n",
    "                        'Transportation by air':'Air transportation',\n",
    "                        'Rubber and miscellaneous plastics products':'Plastics and rubber products manufacturing',\n",
    "                        'Food and kindred products':'Food manufacturing',\n",
    "                        'Apparel and other textile products':'Apparel manufacturing',\n",
    "                        'Amusement and recreation services':'Amusement, gambling, and recreation industries',\n",
    "                        'Building materials and garden equipment':'Building material and garden equipment and supplies dealers',\n",
    "                        'Motion pictures':'Motion picture and sound recording industries',\n",
    "                        'Eating and drinking places':'Food services and drinking places',\n",
    "                        'Special trade contractors':'Specialty trade contractors',\n",
    "                        'Museums, botanical, zoological gardens':'Museums, historical sites, and similar institutions',\n",
    "                        'Petroleum and coal products':'Petroleum and coal products manufacturing',\n",
    "                        'Paper and allied products':'Paper manufacturing',\n",
    "                        'Fabricated metal products':'Fabricated metal product manufacturing',\n",
    "                        'Nonmetallic minerals, except fuels':'Nonmetallic mineral product manufacturing',\n",
    "                        'Railroad transportation':'Rail transportation',\n",
    "                        'Electronic and other electric equipment':'Electrical equipment, appliance, and component manufacturing',\n",
    "                        'Printing and publishing':'Printing and related support activities',\n",
    "                        'Lumber and wood products':'Wood product manufacturing',\n",
    "                        'Coal mining':'Mining, quarrying, and oil and gas extraction',\n",
    "                        'Heavy construction contractors':'Heavy and civil engineering construction',\n",
    "                        'Insurance agents, brokers, and services':'Insurance carriers and related activities',\n",
    "                        'Automotive dealers and service stations':'Motor vehicle and parts dealers',\n",
    "                        'Chemicals and allied products':'Chemical manufacturing',\n",
    "                        'Hotels and other lodging places':'Accommodation'})"
   ]
  },
  {
   "cell_type": "code",
   "execution_count": 68,
   "metadata": {},
   "outputs": [],
   "source": [
    "desc69.value_counts().sort_index();"
   ]
  },
  {
   "cell_type": "code",
   "execution_count": 69,
   "metadata": {},
   "outputs": [
    {
     "data": {
      "text/plain": [
       "98"
      ]
     },
     "execution_count": 69,
     "metadata": {},
     "output_type": "execute_result"
    }
   ],
   "source": [
    "len(desc69.value_counts())"
   ]
  },
  {
   "cell_type": "code",
   "execution_count": 70,
   "metadata": {},
   "outputs": [],
   "source": [
    "list_98 = set(desc98.to_list())\n",
    "list_69 = set(desc69.to_list())"
   ]
  },
  {
   "cell_type": "code",
   "execution_count": 71,
   "metadata": {},
   "outputs": [],
   "source": [
    "diff = []\n",
    "same = []\n",
    "for cat in list_69:\n",
    "    if cat not in list_98:\n",
    "        diff.append(cat)\n",
    "    else:\n",
    "        same.append(cat)"
   ]
  },
  {
   "cell_type": "code",
   "execution_count": 72,
   "metadata": {},
   "outputs": [
    {
     "data": {
      "text/plain": [
       "['Agricultural services',\n",
       " 'Agricultural services, forestry, and fishing',\n",
       " 'Automotive repair, services, and parking',\n",
       " 'Business services',\n",
       " 'Combined real estate, insurance, etc. 4/',\n",
       " 'Communications',\n",
       " 'Depository and nondepository institutions',\n",
       " 'Electric, gas, and sanitary services',\n",
       " 'Engineering and management services 6/',\n",
       " 'Finance, insurance, and real estate',\n",
       " 'Food stores',\n",
       " 'Furniture and fixtures',\n",
       " 'General building contractors',\n",
       " 'Health services',\n",
       " 'Holding and other investment offices',\n",
       " 'Home furniture and furnishings stores',\n",
       " 'Industrial machinery and equipment',\n",
       " 'Instruments and related products',\n",
       " 'Leather and leather products',\n",
       " 'Legal services',\n",
       " 'Local and interurban passenger transit',\n",
       " 'Membership organizations',\n",
       " 'Metal mining',\n",
       " 'Mining',\n",
       " 'Miscellaneous manufacturing industries',\n",
       " 'Miscellaneous repair services',\n",
       " 'Miscellaneous retail',\n",
       " 'Miscellaneous services',\n",
       " 'Motor vehicles and equipment',\n",
       " 'Ordnance 3/',\n",
       " 'Other finance, insurance, and real estate',\n",
       " 'Other transportation',\n",
       " 'Other transportation equipment',\n",
       " 'Personal services',\n",
       " 'Pipelines, except natural gas',\n",
       " 'Primary metal industries',\n",
       " 'Security and commodity brokers',\n",
       " 'Services',\n",
       " 'Social services 5/',\n",
       " 'Stone, clay, and glass products',\n",
       " 'Textile mill products',\n",
       " 'Tobacco products',\n",
       " 'Transportation and public utilities',\n",
       " 'Transportation services',\n",
       " 'Trucking and warehousing']"
      ]
     },
     "execution_count": 72,
     "metadata": {},
     "output_type": "execute_result"
    }
   ],
   "source": [
    "sorted(diff)"
   ]
  },
  {
   "cell_type": "code",
   "execution_count": null,
   "metadata": {},
   "outputs": [],
   "source": []
  },
  {
   "cell_type": "code",
   "execution_count": null,
   "metadata": {},
   "outputs": [],
   "source": []
  }
 ],
 "metadata": {
  "kernelspec": {
   "display_name": "Python 3",
   "language": "python",
   "name": "python3"
  },
  "language_info": {
   "codemirror_mode": {
    "name": "ipython",
    "version": 3
   },
   "file_extension": ".py",
   "mimetype": "text/x-python",
   "name": "python",
   "nbconvert_exporter": "python",
   "pygments_lexer": "ipython3",
   "version": "3.7.6"
  }
 },
 "nbformat": 4,
 "nbformat_minor": 4
}
