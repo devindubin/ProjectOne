{
 "cells": [
  {
   "cell_type": "code",
   "execution_count": 67,
   "metadata": {},
   "outputs": [],
   "source": [
    "# Dependencies and Setup\n",
    "import matplotlib.pyplot as plt\n",
    "import pandas as pd\n",
    "import os\n",
    "# import scipy.stats as st\n",
    "# import numpy as np"
   ]
  },
  {
   "cell_type": "markdown",
   "metadata": {},
   "source": [
    "### Import DataFrame"
   ]
  },
  {
   "cell_type": "code",
   "execution_count": null,
   "metadata": {},
   "outputs": [],
   "source": [
    "# Generate Each CSV file into saperate DataFrames\n",
    "state_name = pd.read_csv(\"STATEWISE DATA LABOR FORCE/state_name.csv\")\n",
    "state_name = state_name[['States', 'st']]"
   ]
  },
  {
   "cell_type": "code",
   "execution_count": 24,
   "metadata": {},
   "outputs": [],
   "source": [
    "# import data from files\n",
    "labor_force_df = pd.read_csv(\"clean_state_labor_force_1979-2020.csv\")\n",
    "wage_df = pd.read_csv(\"clean_combine_state_prof_wage_1997-2019.csv\", low_memory=False)\n",
    "min_wage_df = pd.read_csv(\"mini_wage_data.csv\")\n",
    "# min_wage_df = min_wage_df.reset_index(drop=True)"
   ]
  },
  {
   "cell_type": "code",
   "execution_count": 44,
   "metadata": {},
   "outputs": [],
   "source": [
    "# change all columns to lower case\n",
    "labor_force_df.columns = map(str.lower, labor_force_df.columns)\n",
    "wage_df.columns = map(str.lower, wage_df.columns)\n",
    "min_wage_df.columns = map(str.lower, min_wage_df.columns)"
   ]
  },
  {
   "cell_type": "code",
   "execution_count": 45,
   "metadata": {},
   "outputs": [],
   "source": [
    "# rename coulumn state to states\n",
    "wage_df = wage_df.rename(columns={'state':'states'})\n",
    "min_wage_df = min_wage_df.rename(columns={'state':'states'})"
   ]
  },
  {
   "cell_type": "code",
   "execution_count": 46,
   "metadata": {},
   "outputs": [],
   "source": [
    "# States of interest\n",
    "state_in = ['California','New York','Alabama','Texas','Arizona','Illinois']"
   ]
  },
  {
   "cell_type": "code",
   "execution_count": 47,
   "metadata": {},
   "outputs": [],
   "source": [
    "# change Data Frame only to contain only states of interest\n",
    "labor_force_df = labor_force_df[labor_force_df.states.isin(state_in)]\n",
    "wage_df = wage_df[wage_df.states.isin(state_in)]\n",
    "min_wage_df = min_wage_df[min_wage_df.states.isin(state_in)]"
   ]
  },
  {
   "cell_type": "code",
   "execution_count": 52,
   "metadata": {},
   "outputs": [],
   "source": [
    "# year range\n",
    "years= range(1997, 2020)\n",
    "labor_force_df = labor_force_df[labor_force_df.year.isin(years)]\n",
    "wage_df = wage_df[wage_df.year.isin(years)]\n",
    "min_wage_df = min_wage_df[min_wage_df.year.isin(years)]"
   ]
  },
  {
   "cell_type": "code",
   "execution_count": 53,
   "metadata": {
    "scrolled": false
   },
   "outputs": [
    {
     "data": {
      "text/html": [
       "<div>\n",
       "<style scoped>\n",
       "    .dataframe tbody tr th:only-of-type {\n",
       "        vertical-align: middle;\n",
       "    }\n",
       "\n",
       "    .dataframe tbody tr th {\n",
       "        vertical-align: top;\n",
       "    }\n",
       "\n",
       "    .dataframe thead th {\n",
       "        text-align: right;\n",
       "    }\n",
       "</style>\n",
       "<table border=\"1\" class=\"dataframe\">\n",
       "  <thead>\n",
       "    <tr style=\"text-align: right;\">\n",
       "      <th></th>\n",
       "      <th>year</th>\n",
       "      <th>period</th>\n",
       "      <th>labor force participation rate</th>\n",
       "      <th>employment-population ratio</th>\n",
       "      <th>labor force</th>\n",
       "      <th>employment</th>\n",
       "      <th>unemployment</th>\n",
       "      <th>unemployment rate</th>\n",
       "      <th>states</th>\n",
       "      <th>st</th>\n",
       "    </tr>\n",
       "  </thead>\n",
       "  <tbody>\n",
       "    <tr>\n",
       "      <th>21</th>\n",
       "      <td>1997</td>\n",
       "      <td>Sep</td>\n",
       "      <td>64.6</td>\n",
       "      <td>61.4</td>\n",
       "      <td>2142854</td>\n",
       "      <td>2036969</td>\n",
       "      <td>105885</td>\n",
       "      <td>4.9</td>\n",
       "      <td>Alabama</td>\n",
       "      <td>al</td>\n",
       "    </tr>\n",
       "    <tr>\n",
       "      <th>22</th>\n",
       "      <td>1998</td>\n",
       "      <td>Sep</td>\n",
       "      <td>63.8</td>\n",
       "      <td>60.9</td>\n",
       "      <td>2137201</td>\n",
       "      <td>2040513</td>\n",
       "      <td>96688</td>\n",
       "      <td>4.5</td>\n",
       "      <td>Alabama</td>\n",
       "      <td>al</td>\n",
       "    </tr>\n",
       "    <tr>\n",
       "      <th>23</th>\n",
       "      <td>1999</td>\n",
       "      <td>Sep</td>\n",
       "      <td>63.6</td>\n",
       "      <td>60.6</td>\n",
       "      <td>2141338</td>\n",
       "      <td>2038338</td>\n",
       "      <td>103000</td>\n",
       "      <td>4.8</td>\n",
       "      <td>Alabama</td>\n",
       "      <td>al</td>\n",
       "    </tr>\n",
       "    <tr>\n",
       "      <th>24</th>\n",
       "      <td>2000</td>\n",
       "      <td>Sep</td>\n",
       "      <td>62.9</td>\n",
       "      <td>60.0</td>\n",
       "      <td>2127432</td>\n",
       "      <td>2030794</td>\n",
       "      <td>96638</td>\n",
       "      <td>4.5</td>\n",
       "      <td>Alabama</td>\n",
       "      <td>al</td>\n",
       "    </tr>\n",
       "    <tr>\n",
       "      <th>25</th>\n",
       "      <td>2001</td>\n",
       "      <td>Sep</td>\n",
       "      <td>62.2</td>\n",
       "      <td>58.8</td>\n",
       "      <td>2110339</td>\n",
       "      <td>1996677</td>\n",
       "      <td>113662</td>\n",
       "      <td>5.4</td>\n",
       "      <td>Alabama</td>\n",
       "      <td>al</td>\n",
       "    </tr>\n",
       "  </tbody>\n",
       "</table>\n",
       "</div>"
      ],
      "text/plain": [
       "    year period  labor force participation rate employment-population ratio  \\\n",
       "21  1997    Sep                            64.6                        61.4   \n",
       "22  1998    Sep                            63.8                        60.9   \n",
       "23  1999    Sep                            63.6                        60.6   \n",
       "24  2000    Sep                            62.9                        60.0   \n",
       "25  2001    Sep                            62.2                        58.8   \n",
       "\n",
       "   labor force employment unemployment unemployment rate   states  st  \n",
       "21     2142854    2036969       105885               4.9  Alabama  al  \n",
       "22     2137201    2040513        96688               4.5  Alabama  al  \n",
       "23     2141338    2038338       103000               4.8  Alabama  al  \n",
       "24     2127432    2030794        96638               4.5  Alabama  al  \n",
       "25     2110339    1996677       113662               5.4  Alabama  al  "
      ]
     },
     "execution_count": 53,
     "metadata": {},
     "output_type": "execute_result"
    }
   ],
   "source": [
    "labor_force_df.head()"
   ]
  },
  {
   "cell_type": "code",
   "execution_count": 54,
   "metadata": {
    "scrolled": false
   },
   "outputs": [
    {
     "data": {
      "text/html": [
       "<div>\n",
       "<style scoped>\n",
       "    .dataframe tbody tr th:only-of-type {\n",
       "        vertical-align: middle;\n",
       "    }\n",
       "\n",
       "    .dataframe tbody tr th {\n",
       "        vertical-align: top;\n",
       "    }\n",
       "\n",
       "    .dataframe thead th {\n",
       "        text-align: right;\n",
       "    }\n",
       "</style>\n",
       "<table border=\"1\" class=\"dataframe\">\n",
       "  <thead>\n",
       "    <tr style=\"text-align: right;\">\n",
       "      <th></th>\n",
       "      <th>area</th>\n",
       "      <th>states</th>\n",
       "      <th>occ_code</th>\n",
       "      <th>occ_title</th>\n",
       "      <th>tot_emp</th>\n",
       "      <th>h_mean</th>\n",
       "      <th>a_mean</th>\n",
       "      <th>h_median</th>\n",
       "      <th>a_median</th>\n",
       "      <th>annual</th>\n",
       "      <th>year</th>\n",
       "    </tr>\n",
       "  </thead>\n",
       "  <tbody>\n",
       "    <tr>\n",
       "      <th>0</th>\n",
       "      <td>1.0</td>\n",
       "      <td>Alabama</td>\n",
       "      <td>13002.0</td>\n",
       "      <td>Financial Managers</td>\n",
       "      <td>8140</td>\n",
       "      <td>24.23</td>\n",
       "      <td>50400</td>\n",
       "      <td>20.97</td>\n",
       "      <td>43618</td>\n",
       "      <td>NaN</td>\n",
       "      <td>1997.0</td>\n",
       "    </tr>\n",
       "    <tr>\n",
       "      <th>1</th>\n",
       "      <td>1.0</td>\n",
       "      <td>Alabama</td>\n",
       "      <td>13005.0</td>\n",
       "      <td>Personnel, Training, and Labor Relations Managers</td>\n",
       "      <td>2760</td>\n",
       "      <td>20.84</td>\n",
       "      <td>43350</td>\n",
       "      <td>19.29</td>\n",
       "      <td>40123</td>\n",
       "      <td>NaN</td>\n",
       "      <td>1997.0</td>\n",
       "    </tr>\n",
       "    <tr>\n",
       "      <th>2</th>\n",
       "      <td>1.0</td>\n",
       "      <td>Alabama</td>\n",
       "      <td>13008.0</td>\n",
       "      <td>Purchasing Managers</td>\n",
       "      <td>2370</td>\n",
       "      <td>19.07</td>\n",
       "      <td>39660</td>\n",
       "      <td>15.99</td>\n",
       "      <td>33259</td>\n",
       "      <td>NaN</td>\n",
       "      <td>1997.0</td>\n",
       "    </tr>\n",
       "    <tr>\n",
       "      <th>3</th>\n",
       "      <td>1.0</td>\n",
       "      <td>Alabama</td>\n",
       "      <td>13011.0</td>\n",
       "      <td>Marketing, Advertising, and Public Relations M...</td>\n",
       "      <td>4500</td>\n",
       "      <td>23.76</td>\n",
       "      <td>49420</td>\n",
       "      <td>21.52</td>\n",
       "      <td>44762</td>\n",
       "      <td>NaN</td>\n",
       "      <td>1997.0</td>\n",
       "    </tr>\n",
       "    <tr>\n",
       "      <th>4</th>\n",
       "      <td>1.0</td>\n",
       "      <td>Alabama</td>\n",
       "      <td>13014.0</td>\n",
       "      <td>Administrative Services Managers</td>\n",
       "      <td>2950</td>\n",
       "      <td>20.98</td>\n",
       "      <td>43650</td>\n",
       "      <td>19.32</td>\n",
       "      <td>40186</td>\n",
       "      <td>NaN</td>\n",
       "      <td>1997.0</td>\n",
       "    </tr>\n",
       "  </tbody>\n",
       "</table>\n",
       "</div>"
      ],
      "text/plain": [
       "   area   states occ_code                                          occ_title  \\\n",
       "0   1.0  Alabama  13002.0                                 Financial Managers   \n",
       "1   1.0  Alabama  13005.0  Personnel, Training, and Labor Relations Managers   \n",
       "2   1.0  Alabama  13008.0                                Purchasing Managers   \n",
       "3   1.0  Alabama  13011.0  Marketing, Advertising, and Public Relations M...   \n",
       "4   1.0  Alabama  13014.0                   Administrative Services Managers   \n",
       "\n",
       "  tot_emp h_mean a_mean h_median a_median annual    year  \n",
       "0    8140  24.23  50400    20.97    43618    NaN  1997.0  \n",
       "1    2760  20.84  43350    19.29    40123    NaN  1997.0  \n",
       "2    2370  19.07  39660    15.99    33259    NaN  1997.0  \n",
       "3    4500  23.76  49420    21.52    44762    NaN  1997.0  \n",
       "4    2950  20.98  43650    19.32    40186    NaN  1997.0  "
      ]
     },
     "execution_count": 54,
     "metadata": {},
     "output_type": "execute_result"
    }
   ],
   "source": [
    "wage_df.head()"
   ]
  },
  {
   "cell_type": "code",
   "execution_count": 55,
   "metadata": {
    "scrolled": true
   },
   "outputs": [
    {
     "data": {
      "text/html": [
       "<div>\n",
       "<style scoped>\n",
       "    .dataframe tbody tr th:only-of-type {\n",
       "        vertical-align: middle;\n",
       "    }\n",
       "\n",
       "    .dataframe tbody tr th {\n",
       "        vertical-align: top;\n",
       "    }\n",
       "\n",
       "    .dataframe thead th {\n",
       "        text-align: right;\n",
       "    }\n",
       "</style>\n",
       "<table border=\"1\" class=\"dataframe\">\n",
       "  <thead>\n",
       "    <tr style=\"text-align: right;\">\n",
       "      <th></th>\n",
       "      <th>unnamed: 0</th>\n",
       "      <th>year</th>\n",
       "      <th>states</th>\n",
       "      <th>table_data</th>\n",
       "      <th>footnote</th>\n",
       "      <th>high.value</th>\n",
       "      <th>low.value</th>\n",
       "      <th>cpi.average</th>\n",
       "      <th>high.2018</th>\n",
       "      <th>low.2018</th>\n",
       "    </tr>\n",
       "  </thead>\n",
       "  <tbody>\n",
       "    <tr>\n",
       "      <th>1595</th>\n",
       "      <td>1595</td>\n",
       "      <td>1997</td>\n",
       "      <td>Alabama</td>\n",
       "      <td>...</td>\n",
       "      <td>NaN</td>\n",
       "      <td>0.00</td>\n",
       "      <td>0.00</td>\n",
       "      <td>160.516667</td>\n",
       "      <td>0.00</td>\n",
       "      <td>0.00</td>\n",
       "    </tr>\n",
       "    <tr>\n",
       "      <th>1597</th>\n",
       "      <td>1597</td>\n",
       "      <td>1997</td>\n",
       "      <td>Arizona</td>\n",
       "      <td>...</td>\n",
       "      <td>NaN</td>\n",
       "      <td>0.00</td>\n",
       "      <td>0.00</td>\n",
       "      <td>160.516667</td>\n",
       "      <td>0.00</td>\n",
       "      <td>0.00</td>\n",
       "    </tr>\n",
       "    <tr>\n",
       "      <th>1599</th>\n",
       "      <td>1599</td>\n",
       "      <td>1997</td>\n",
       "      <td>California</td>\n",
       "      <td>4.75</td>\n",
       "      <td>NaN</td>\n",
       "      <td>4.75</td>\n",
       "      <td>4.75</td>\n",
       "      <td>160.516667</td>\n",
       "      <td>7.41</td>\n",
       "      <td>7.41</td>\n",
       "    </tr>\n",
       "    <tr>\n",
       "      <th>1610</th>\n",
       "      <td>1610</td>\n",
       "      <td>1997</td>\n",
       "      <td>Illinois</td>\n",
       "      <td>4.75[c]</td>\n",
       "      <td>[c]</td>\n",
       "      <td>4.75</td>\n",
       "      <td>4.75</td>\n",
       "      <td>160.516667</td>\n",
       "      <td>7.41</td>\n",
       "      <td>7.41</td>\n",
       "    </tr>\n",
       "    <tr>\n",
       "      <th>1629</th>\n",
       "      <td>1629</td>\n",
       "      <td>1997</td>\n",
       "      <td>New York</td>\n",
       "      <td>4.25</td>\n",
       "      <td>NaN</td>\n",
       "      <td>4.25</td>\n",
       "      <td>4.25</td>\n",
       "      <td>160.516667</td>\n",
       "      <td>6.63</td>\n",
       "      <td>6.63</td>\n",
       "    </tr>\n",
       "  </tbody>\n",
       "</table>\n",
       "</div>"
      ],
      "text/plain": [
       "      unnamed: 0  year      states table_data footnote  high.value  low.value  \\\n",
       "1595        1595  1997     Alabama        ...      NaN        0.00       0.00   \n",
       "1597        1597  1997     Arizona        ...      NaN        0.00       0.00   \n",
       "1599        1599  1997  California       4.75      NaN        4.75       4.75   \n",
       "1610        1610  1997    Illinois    4.75[c]      [c]        4.75       4.75   \n",
       "1629        1629  1997    New York       4.25      NaN        4.25       4.25   \n",
       "\n",
       "      cpi.average  high.2018  low.2018  \n",
       "1595   160.516667       0.00      0.00  \n",
       "1597   160.516667       0.00      0.00  \n",
       "1599   160.516667       7.41      7.41  \n",
       "1610   160.516667       7.41      7.41  \n",
       "1629   160.516667       6.63      6.63  "
      ]
     },
     "execution_count": 55,
     "metadata": {},
     "output_type": "execute_result"
    }
   ],
   "source": [
    "min_wage_df.head()"
   ]
  },
  {
   "cell_type": "markdown",
   "metadata": {},
   "source": [
    "# Plot"
   ]
  },
  {
   "cell_type": "code",
   "execution_count": null,
   "metadata": {},
   "outputs": [],
   "source": [
    "# # plot function that taking in a DataFrame, x_axis, y_axist and scatter plot\n",
    "# def plot_df_scatter2(df, x_axis, y_axis, y1_axis, y2_axis, State):\n",
    "#     fig = plt.figure(figsize=(8,15))\n",
    "#     ax1 = fig.add_subplot(411)\n",
    "#     ax2 = fig.add_subplot(412)\n",
    "#     ax3 = fig.add_subplot(413)\n",
    "#     ax4 = fig.add_subplot(414)\n",
    "    \n",
    "#     title = f'{x_axis} vs {y_axis} and {y1_axis} for {State}'\n",
    "    \n",
    "#     ax1.scatter(df[x_axis], df[y_axis], alpha=0.5, edgecolors='g')\n",
    "#     ax1.set(ylabel = y_axis,\n",
    "#            title = title)\n",
    "#     ax2.scatter( df[x_axis], df[y1_axis], alpha=0.5, edgecolors='b')\n",
    "#     ax2.set(ylabel = y1_axis)\n",
    "    \n",
    "#     ax3.scatter(df[x_axis], df[y1_axis]/df[y_axis],color='y')  \n",
    "#     ax3.set(ylabel = f'{y1_axis}/{y_axis}')\n",
    "    \n",
    "#     ax4.scatter(df[x_axis],df[y2_axis], color='r')\n",
    "#     ax4.set(ylabel=y2_axis)\n",
    "    \n",
    "#     plt.savefig(f'Kosal_Resources\\MinimumWage_plot\\{title}.png')"
   ]
  },
  {
   "cell_type": "code",
   "execution_count": 108,
   "metadata": {
    "scrolled": true
   },
   "outputs": [
    {
     "name": "stderr",
     "output_type": "stream",
     "text": [
      "<ipython-input-108-2b87a851bc2a>:3: SettingWithCopyWarning: \n",
      "A value is trying to be set on a copy of a slice from a DataFrame.\n",
      "Try using .loc[row_indexer,col_indexer] = value instead\n",
      "\n",
      "See the caveats in the documentation: https://pandas.pydata.org/pandas-docs/stable/user_guide/indexing.html#returning-a-view-versus-a-copy\n",
      "  lf_df['UNEM'] = lf_df['unemployment rate'].apply(pd.to_numeric)\n"
     ]
    }
   ],
   "source": [
    "state = state_in[1]\n",
    "lf_df = labor_force_df[labor_force_df.states == state]\n",
    "lf_df['UNEM'] = lf_df['unemployment rate'].apply(pd.to_numeric)\n"
   ]
  },
  {
   "cell_type": "code",
   "execution_count": 109,
   "metadata": {
    "scrolled": true
   },
   "outputs": [
    {
     "data": {
      "image/png": "[encoded data removed]",
      "text/plain": [
       "<Figure size 576x360 with 1 Axes>"
      ]
     },
     "metadata": {
      "needs_background": "light"
     },
     "output_type": "display_data"
    }
   ],
   "source": [
    "state = state_in[1]\n",
    "lf_df = labor_force_df[labor_force_df.states == state]\n",
    "mw_df = min_wage_df[min_wage_df.states==state]\n",
    "fig1, ax1 = plt.subplots(figsize=(8,5))\n",
    "ax1.scatter(lf_df.year, lf_df['unemployment rate']);\n",
    "ax1.scatter(mw_df.year, mw_df['high.value']);"
   ]
  },
  {
   "cell_type": "code",
   "execution_count": 88,
   "metadata": {
    "scrolled": true
   },
   "outputs": [
    {
     "data": {
      "text/html": [
       "<div>\n",
       "<style scoped>\n",
       "    .dataframe tbody tr th:only-of-type {\n",
       "        vertical-align: middle;\n",
       "    }\n",
       "\n",
       "    .dataframe tbody tr th {\n",
       "        vertical-align: top;\n",
       "    }\n",
       "\n",
       "    .dataframe thead th {\n",
       "        text-align: right;\n",
       "    }\n",
       "</style>\n",
       "<table border=\"1\" class=\"dataframe\">\n",
       "  <thead>\n",
       "    <tr style=\"text-align: right;\">\n",
       "      <th></th>\n",
       "      <th>year</th>\n",
       "      <th>period</th>\n",
       "      <th>labor force participation rate</th>\n",
       "      <th>employment-population ratio</th>\n",
       "      <th>labor force</th>\n",
       "      <th>employment</th>\n",
       "      <th>unemployment</th>\n",
       "      <th>unemployment rate</th>\n",
       "      <th>states</th>\n",
       "      <th>st</th>\n",
       "    </tr>\n",
       "  </thead>\n",
       "  <tbody>\n",
       "    <tr>\n",
       "      <th>34</th>\n",
       "      <td>2010</td>\n",
       "      <td>Sep</td>\n",
       "      <td>59.6</td>\n",
       "      <td>53.7</td>\n",
       "      <td>2212523</td>\n",
       "      <td>1990948</td>\n",
       "      <td>221575</td>\n",
       "      <td>10.0</td>\n",
       "      <td>Alabama</td>\n",
       "      <td>al</td>\n",
       "    </tr>\n",
       "  </tbody>\n",
       "</table>\n",
       "</div>"
      ],
      "text/plain": [
       "    year period  labor force participation rate employment-population ratio  \\\n",
       "34  2010    Sep                            59.6                        53.7   \n",
       "\n",
       "   labor force employment unemployment unemployment rate   states  st  \n",
       "34     2212523    1990948       221575              10.0  Alabama  al  "
      ]
     },
     "execution_count": 88,
     "metadata": {},
     "output_type": "execute_result"
    }
   ],
   "source": [
    "lf_df[lf_df.year==2010].head()"
   ]
  },
  {
   "cell_type": "code",
   "execution_count": 110,
   "metadata": {},
   "outputs": [
    {
     "name": "stderr",
     "output_type": "stream",
     "text": [
      "C:\\Users\\ksien\\anaconda3\\lib\\site-packages\\pandas\\core\\ops\\array_ops.py:253: FutureWarning: elementwise comparison failed; returning scalar instead, but in the future will perform elementwise comparison\n",
      "  res_values = method(rvalues)\n"
     ]
    },
    {
     "data": {
      "text/html": [
       "<div>\n",
       "<style scoped>\n",
       "    .dataframe tbody tr th:only-of-type {\n",
       "        vertical-align: middle;\n",
       "    }\n",
       "\n",
       "    .dataframe tbody tr th {\n",
       "        vertical-align: top;\n",
       "    }\n",
       "\n",
       "    .dataframe thead th {\n",
       "        text-align: right;\n",
       "    }\n",
       "</style>\n",
       "<table border=\"1\" class=\"dataframe\">\n",
       "  <thead>\n",
       "    <tr style=\"text-align: right;\">\n",
       "      <th></th>\n",
       "      <th>year</th>\n",
       "      <th>period</th>\n",
       "      <th>labor force participation rate</th>\n",
       "      <th>employment-population ratio</th>\n",
       "      <th>labor force</th>\n",
       "      <th>employment</th>\n",
       "      <th>unemployment</th>\n",
       "      <th>unemployment rate</th>\n",
       "      <th>states</th>\n",
       "      <th>st</th>\n",
       "    </tr>\n",
       "  </thead>\n",
       "  <tbody>\n",
       "  </tbody>\n",
       "</table>\n",
       "</div>"
      ],
      "text/plain": [
       "Empty DataFrame\n",
       "Columns: [year, period, labor force participation rate, employment-population ratio, labor force, employment, unemployment, unemployment rate, states, st]\n",
       "Index: []"
      ]
     },
     "execution_count": 110,
     "metadata": {},
     "output_type": "execute_result"
    }
   ],
   "source": [
    "lf_df[lf_df['labor force participation rate']=='59.6']"
   ]
  },
  {
   "cell_type": "code",
   "execution_count": null,
   "metadata": {},
   "outputs": [],
   "source": []
  }
 ],
 "metadata": {
  "kernelspec": {
   "display_name": "Python 3",
   "language": "python",
   "name": "python3"
  },
  "language_info": {
   "codemirror_mode": {
    "name": "ipython",
    "version": 3
   },
   "file_extension": ".py",
   "mimetype": "text/x-python",
   "name": "python",
   "nbconvert_exporter": "python",
   "pygments_lexer": "ipython3",
   "version": "3.8.3"
  }
 },
 "nbformat": 4,
 "nbformat_minor": 4
}
