{
 "cells": [
  {
   "cell_type": "code",
   "execution_count": 1,
   "metadata": {},
   "outputs": [],
   "source": [
    "# Dependencies and Setup\n",
    "import matplotlib.pyplot as plt\n",
    "import pandas as pd\n",
    "import numpy as np\n",
    "import os\n",
    "# import scipy.stats as st\n",
    "# import numpy as np"
   ]
  },
  {
   "cell_type": "markdown",
   "metadata": {},
   "source": [
    "### Import DataFrame"
   ]
  },
  {
   "cell_type": "code",
   "execution_count": 2,
   "metadata": {},
   "outputs": [],
   "source": [
    "# Generate Each CSV file into saperate DataFrames\n",
    "state_name = pd.read_csv(\"STATEWISE DATA LABOR FORCE/state_name.csv\")\n",
    "state_name = state_name[['States', 'st']]"
   ]
  },
  {
   "cell_type": "code",
   "execution_count": 3,
   "metadata": {},
   "outputs": [],
   "source": [
    "# import data from files\n",
    "labor_force_df = pd.read_csv(\"clean_state_labor_force_1979-2020.csv\")\n",
    "wage_df = pd.read_csv(\"clean_combine_state_prof_wage_1997-2019.csv\", low_memory=False)\n",
    "min_wage_df = pd.read_csv(\"mini_wage_data.csv\")\n",
    "# min_wage_df = min_wage_df.reset_index(drop=True)"
   ]
  },
  {
   "cell_type": "code",
   "execution_count": 4,
   "metadata": {},
   "outputs": [],
   "source": [
    "# change all columns to lower case\n",
    "labor_force_df.columns = map(str.lower, labor_force_df.columns)\n",
    "wage_df.columns = map(str.lower, wage_df.columns)\n",
    "min_wage_df.columns = map(str.lower, min_wage_df.columns)"
   ]
  },
  {
   "cell_type": "code",
   "execution_count": 5,
   "metadata": {},
   "outputs": [],
   "source": [
    "# rename coulumn state to states\n",
    "wage_df = wage_df.rename(columns={'state':'states'})\n",
    "min_wage_df = min_wage_df.rename(columns={'state':'states'})"
   ]
  },
  {
   "cell_type": "code",
   "execution_count": 6,
   "metadata": {},
   "outputs": [],
   "source": [
    "# States of interest\n",
    "state_in = ['California','New York','Alabama','Texas','Arizona','Illinois']"
   ]
  },
  {
   "cell_type": "code",
   "execution_count": 7,
   "metadata": {},
   "outputs": [],
   "source": [
    "# change Data Frame only to contain only states of interest\n",
    "labor_force_df = labor_force_df[labor_force_df.states.isin(state_in)]\n",
    "wage_df = wage_df[wage_df.states.isin(state_in)]\n",
    "min_wage_df = min_wage_df[min_wage_df.states.isin(state_in)]"
   ]
  },
  {
   "cell_type": "code",
   "execution_count": 8,
   "metadata": {},
   "outputs": [],
   "source": [
    "# # year range\n",
    "# years= range(1997, 2020)\n",
    "# labor_force_df = labor_force_df[labor_force_df.year.isin(years)]\n",
    "# wage_df = wage_df[wage_df.year.isin(years)]\n",
    "# min_wage_df = min_wage_df[min_wage_df.year.isin(years)]"
   ]
  },
  {
   "cell_type": "code",
   "execution_count": 9,
   "metadata": {
    "scrolled": false
   },
   "outputs": [
    {
     "data": {
      "text/html": [
       "<div>\n",
       "<style scoped>\n",
       "    .dataframe tbody tr th:only-of-type {\n",
       "        vertical-align: middle;\n",
       "    }\n",
       "\n",
       "    .dataframe tbody tr th {\n",
       "        vertical-align: top;\n",
       "    }\n",
       "\n",
       "    .dataframe thead th {\n",
       "        text-align: right;\n",
       "    }\n",
       "</style>\n",
       "<table border=\"1\" class=\"dataframe\">\n",
       "  <thead>\n",
       "    <tr style=\"text-align: right;\">\n",
       "      <th></th>\n",
       "      <th>year</th>\n",
       "      <th>period</th>\n",
       "      <th>labor force participation rate</th>\n",
       "      <th>employment-population ratio</th>\n",
       "      <th>labor force</th>\n",
       "      <th>employment</th>\n",
       "      <th>unemployment</th>\n",
       "      <th>unemployment rate</th>\n",
       "      <th>states</th>\n",
       "      <th>st</th>\n",
       "    </tr>\n",
       "  </thead>\n",
       "  <tbody>\n",
       "    <tr>\n",
       "      <th>0</th>\n",
       "      <td>1976.0</td>\n",
       "      <td>Sep</td>\n",
       "      <td>57.0</td>\n",
       "      <td>53.1</td>\n",
       "      <td>1507195.0</td>\n",
       "      <td>1403488.0</td>\n",
       "      <td>103707.0</td>\n",
       "      <td>6.9</td>\n",
       "      <td>Alabama</td>\n",
       "      <td>al</td>\n",
       "    </tr>\n",
       "    <tr>\n",
       "      <th>1</th>\n",
       "      <td>1977.0</td>\n",
       "      <td>Sep</td>\n",
       "      <td>58.5</td>\n",
       "      <td>54.4</td>\n",
       "      <td>1579545.0</td>\n",
       "      <td>1469855.0</td>\n",
       "      <td>109690.0</td>\n",
       "      <td>6.9</td>\n",
       "      <td>Alabama</td>\n",
       "      <td>al</td>\n",
       "    </tr>\n",
       "    <tr>\n",
       "      <th>2</th>\n",
       "      <td>1978.0</td>\n",
       "      <td>Sep</td>\n",
       "      <td>59.4</td>\n",
       "      <td>55.6</td>\n",
       "      <td>1637866.0</td>\n",
       "      <td>1532949.0</td>\n",
       "      <td>104917.0</td>\n",
       "      <td>6.4</td>\n",
       "      <td>Alabama</td>\n",
       "      <td>al</td>\n",
       "    </tr>\n",
       "    <tr>\n",
       "      <th>3</th>\n",
       "      <td>1979.0</td>\n",
       "      <td>Sep</td>\n",
       "      <td>59.3</td>\n",
       "      <td>55.0</td>\n",
       "      <td>1661023.0</td>\n",
       "      <td>1540377.0</td>\n",
       "      <td>120646.0</td>\n",
       "      <td>7.3</td>\n",
       "      <td>Alabama</td>\n",
       "      <td>al</td>\n",
       "    </tr>\n",
       "    <tr>\n",
       "      <th>4</th>\n",
       "      <td>1980.0</td>\n",
       "      <td>Sep</td>\n",
       "      <td>58.9</td>\n",
       "      <td>53.2</td>\n",
       "      <td>1670565.0</td>\n",
       "      <td>1508703.0</td>\n",
       "      <td>161862.0</td>\n",
       "      <td>9.7</td>\n",
       "      <td>Alabama</td>\n",
       "      <td>al</td>\n",
       "    </tr>\n",
       "  </tbody>\n",
       "</table>\n",
       "</div>"
      ],
      "text/plain": [
       "     year period  labor force participation rate  employment-population ratio  \\\n",
       "0  1976.0    Sep                            57.0                         53.1   \n",
       "1  1977.0    Sep                            58.5                         54.4   \n",
       "2  1978.0    Sep                            59.4                         55.6   \n",
       "3  1979.0    Sep                            59.3                         55.0   \n",
       "4  1980.0    Sep                            58.9                         53.2   \n",
       "\n",
       "   labor force  employment  unemployment  unemployment rate   states  st  \n",
       "0    1507195.0   1403488.0      103707.0                6.9  Alabama  al  \n",
       "1    1579545.0   1469855.0      109690.0                6.9  Alabama  al  \n",
       "2    1637866.0   1532949.0      104917.0                6.4  Alabama  al  \n",
       "3    1661023.0   1540377.0      120646.0                7.3  Alabama  al  \n",
       "4    1670565.0   1508703.0      161862.0                9.7  Alabama  al  "
      ]
     },
     "execution_count": 9,
     "metadata": {},
     "output_type": "execute_result"
    }
   ],
   "source": [
    "labor_force_df.head()"
   ]
  },
  {
   "cell_type": "code",
   "execution_count": 10,
   "metadata": {
    "scrolled": false
   },
   "outputs": [
    {
     "data": {
      "text/html": [
       "<div>\n",
       "<style scoped>\n",
       "    .dataframe tbody tr th:only-of-type {\n",
       "        vertical-align: middle;\n",
       "    }\n",
       "\n",
       "    .dataframe tbody tr th {\n",
       "        vertical-align: top;\n",
       "    }\n",
       "\n",
       "    .dataframe thead th {\n",
       "        text-align: right;\n",
       "    }\n",
       "</style>\n",
       "<table border=\"1\" class=\"dataframe\">\n",
       "  <thead>\n",
       "    <tr style=\"text-align: right;\">\n",
       "      <th></th>\n",
       "      <th>area</th>\n",
       "      <th>states</th>\n",
       "      <th>occ_code</th>\n",
       "      <th>occ_title</th>\n",
       "      <th>tot_emp</th>\n",
       "      <th>h_mean</th>\n",
       "      <th>a_mean</th>\n",
       "      <th>h_median</th>\n",
       "      <th>a_median</th>\n",
       "      <th>annual</th>\n",
       "      <th>year</th>\n",
       "    </tr>\n",
       "  </thead>\n",
       "  <tbody>\n",
       "    <tr>\n",
       "      <th>0</th>\n",
       "      <td>1.0</td>\n",
       "      <td>Alabama</td>\n",
       "      <td>13002.0</td>\n",
       "      <td>Financial Managers</td>\n",
       "      <td>8140</td>\n",
       "      <td>24.23</td>\n",
       "      <td>50400</td>\n",
       "      <td>20.97</td>\n",
       "      <td>43618</td>\n",
       "      <td>NaN</td>\n",
       "      <td>1997.0</td>\n",
       "    </tr>\n",
       "    <tr>\n",
       "      <th>1</th>\n",
       "      <td>1.0</td>\n",
       "      <td>Alabama</td>\n",
       "      <td>13005.0</td>\n",
       "      <td>Personnel, Training, and Labor Relations Managers</td>\n",
       "      <td>2760</td>\n",
       "      <td>20.84</td>\n",
       "      <td>43350</td>\n",
       "      <td>19.29</td>\n",
       "      <td>40123</td>\n",
       "      <td>NaN</td>\n",
       "      <td>1997.0</td>\n",
       "    </tr>\n",
       "    <tr>\n",
       "      <th>2</th>\n",
       "      <td>1.0</td>\n",
       "      <td>Alabama</td>\n",
       "      <td>13008.0</td>\n",
       "      <td>Purchasing Managers</td>\n",
       "      <td>2370</td>\n",
       "      <td>19.07</td>\n",
       "      <td>39660</td>\n",
       "      <td>15.99</td>\n",
       "      <td>33259</td>\n",
       "      <td>NaN</td>\n",
       "      <td>1997.0</td>\n",
       "    </tr>\n",
       "    <tr>\n",
       "      <th>3</th>\n",
       "      <td>1.0</td>\n",
       "      <td>Alabama</td>\n",
       "      <td>13011.0</td>\n",
       "      <td>Marketing, Advertising, and Public Relations M...</td>\n",
       "      <td>4500</td>\n",
       "      <td>23.76</td>\n",
       "      <td>49420</td>\n",
       "      <td>21.52</td>\n",
       "      <td>44762</td>\n",
       "      <td>NaN</td>\n",
       "      <td>1997.0</td>\n",
       "    </tr>\n",
       "    <tr>\n",
       "      <th>4</th>\n",
       "      <td>1.0</td>\n",
       "      <td>Alabama</td>\n",
       "      <td>13014.0</td>\n",
       "      <td>Administrative Services Managers</td>\n",
       "      <td>2950</td>\n",
       "      <td>20.98</td>\n",
       "      <td>43650</td>\n",
       "      <td>19.32</td>\n",
       "      <td>40186</td>\n",
       "      <td>NaN</td>\n",
       "      <td>1997.0</td>\n",
       "    </tr>\n",
       "  </tbody>\n",
       "</table>\n",
       "</div>"
      ],
      "text/plain": [
       "   area   states occ_code                                          occ_title  \\\n",
       "0   1.0  Alabama  13002.0                                 Financial Managers   \n",
       "1   1.0  Alabama  13005.0  Personnel, Training, and Labor Relations Managers   \n",
       "2   1.0  Alabama  13008.0                                Purchasing Managers   \n",
       "3   1.0  Alabama  13011.0  Marketing, Advertising, and Public Relations M...   \n",
       "4   1.0  Alabama  13014.0                   Administrative Services Managers   \n",
       "\n",
       "  tot_emp  h_mean a_mean h_median a_median  annual    year  \n",
       "0    8140   24.23  50400    20.97    43618     NaN  1997.0  \n",
       "1    2760   20.84  43350    19.29    40123     NaN  1997.0  \n",
       "2    2370   19.07  39660    15.99    33259     NaN  1997.0  \n",
       "3    4500   23.76  49420    21.52    44762     NaN  1997.0  \n",
       "4    2950   20.98  43650    19.32    40186     NaN  1997.0  "
      ]
     },
     "execution_count": 10,
     "metadata": {},
     "output_type": "execute_result"
    }
   ],
   "source": [
    "wage_df.head()"
   ]
  },
  {
   "cell_type": "code",
   "execution_count": 11,
   "metadata": {
    "scrolled": true
   },
   "outputs": [
    {
     "data": {
      "text/html": [
       "<div>\n",
       "<style scoped>\n",
       "    .dataframe tbody tr th:only-of-type {\n",
       "        vertical-align: middle;\n",
       "    }\n",
       "\n",
       "    .dataframe tbody tr th {\n",
       "        vertical-align: top;\n",
       "    }\n",
       "\n",
       "    .dataframe thead th {\n",
       "        text-align: right;\n",
       "    }\n",
       "</style>\n",
       "<table border=\"1\" class=\"dataframe\">\n",
       "  <thead>\n",
       "    <tr style=\"text-align: right;\">\n",
       "      <th></th>\n",
       "      <th>unnamed: 0</th>\n",
       "      <th>year</th>\n",
       "      <th>states</th>\n",
       "      <th>table_data</th>\n",
       "      <th>footnote</th>\n",
       "      <th>high.value</th>\n",
       "      <th>low.value</th>\n",
       "      <th>cpi.average</th>\n",
       "      <th>high.2018</th>\n",
       "      <th>low.2018</th>\n",
       "    </tr>\n",
       "  </thead>\n",
       "  <tbody>\n",
       "    <tr>\n",
       "      <th>0</th>\n",
       "      <td>0</td>\n",
       "      <td>1968</td>\n",
       "      <td>Alabama</td>\n",
       "      <td>...</td>\n",
       "      <td>NaN</td>\n",
       "      <td>0.00</td>\n",
       "      <td>0.000</td>\n",
       "      <td>34.783333</td>\n",
       "      <td>0.00</td>\n",
       "      <td>0.00</td>\n",
       "    </tr>\n",
       "    <tr>\n",
       "      <th>2</th>\n",
       "      <td>2</td>\n",
       "      <td>1968</td>\n",
       "      <td>Arizona</td>\n",
       "      <td>18.72 - 26.40/wk(b)</td>\n",
       "      <td>(b)</td>\n",
       "      <td>0.66</td>\n",
       "      <td>0.468</td>\n",
       "      <td>34.783333</td>\n",
       "      <td>4.75</td>\n",
       "      <td>3.37</td>\n",
       "    </tr>\n",
       "    <tr>\n",
       "      <th>4</th>\n",
       "      <td>4</td>\n",
       "      <td>1968</td>\n",
       "      <td>California</td>\n",
       "      <td>1.65(b)</td>\n",
       "      <td>(b)</td>\n",
       "      <td>1.65</td>\n",
       "      <td>1.650</td>\n",
       "      <td>34.783333</td>\n",
       "      <td>11.88</td>\n",
       "      <td>11.88</td>\n",
       "    </tr>\n",
       "    <tr>\n",
       "      <th>15</th>\n",
       "      <td>15</td>\n",
       "      <td>1968</td>\n",
       "      <td>Illinois</td>\n",
       "      <td>...</td>\n",
       "      <td>NaN</td>\n",
       "      <td>0.00</td>\n",
       "      <td>0.000</td>\n",
       "      <td>34.783333</td>\n",
       "      <td>0.00</td>\n",
       "      <td>0.00</td>\n",
       "    </tr>\n",
       "    <tr>\n",
       "      <th>34</th>\n",
       "      <td>34</td>\n",
       "      <td>1968</td>\n",
       "      <td>New York</td>\n",
       "      <td>1.60</td>\n",
       "      <td>NaN</td>\n",
       "      <td>1.60</td>\n",
       "      <td>1.600</td>\n",
       "      <td>34.783333</td>\n",
       "      <td>11.52</td>\n",
       "      <td>11.52</td>\n",
       "    </tr>\n",
       "  </tbody>\n",
       "</table>\n",
       "</div>"
      ],
      "text/plain": [
       "    unnamed: 0  year      states           table_data footnote  high.value  \\\n",
       "0            0  1968     Alabama                  ...      NaN        0.00   \n",
       "2            2  1968     Arizona  18.72 - 26.40/wk(b)      (b)        0.66   \n",
       "4            4  1968  California              1.65(b)      (b)        1.65   \n",
       "15          15  1968    Illinois                  ...      NaN        0.00   \n",
       "34          34  1968    New York                 1.60      NaN        1.60   \n",
       "\n",
       "    low.value  cpi.average  high.2018  low.2018  \n",
       "0       0.000    34.783333       0.00      0.00  \n",
       "2       0.468    34.783333       4.75      3.37  \n",
       "4       1.650    34.783333      11.88     11.88  \n",
       "15      0.000    34.783333       0.00      0.00  \n",
       "34      1.600    34.783333      11.52     11.52  "
      ]
     },
     "execution_count": 11,
     "metadata": {},
     "output_type": "execute_result"
    }
   ],
   "source": [
    "min_wage_df.head()"
   ]
  },
  {
   "cell_type": "markdown",
   "metadata": {},
   "source": [
    "# Plot"
   ]
  },
  {
   "cell_type": "code",
   "execution_count": 12,
   "metadata": {},
   "outputs": [],
   "source": [
    "# # plot function that taking in a DataFrame, x_axis, y_axist and scatter plot\n",
    "# def plot_df_scatter2(df, x_axis, y_axis, y1_axis, y2_axis, State):\n",
    "#     fig = plt.figure(figsize=(8,15))\n",
    "#     ax1 = fig.add_subplot(411)\n",
    "#     ax2 = fig.add_subplot(412)\n",
    "#     ax3 = fig.add_subplot(413)\n",
    "#     ax4 = fig.add_subplot(414)\n",
    "    \n",
    "#     title = f'{x_axis} vs {y_axis} and {y1_axis} for {State}'\n",
    "    \n",
    "#     ax1.scatter(df[x_axis], df[y_axis], alpha=0.5, edgecolors='g')\n",
    "#     ax1.set(ylabel = y_axis,\n",
    "#            title = title)\n",
    "#     ax2.scatter( df[x_axis], df[y1_axis], alpha=0.5, edgecolors='b')\n",
    "#     ax2.set(ylabel = y1_axis)\n",
    "    \n",
    "#     ax3.scatter(df[x_axis], df[y1_axis]/df[y_axis],color='y')  \n",
    "#     ax3.set(ylabel = f'{y1_axis}/{y_axis}')\n",
    "    \n",
    "#     ax4.scatter(df[x_axis],df[y2_axis], color='r')\n",
    "#     ax4.set(ylabel=y2_axis)\n",
    "    \n",
    "#     plt.savefig(f'Kosal_Resources\\MinimumWage_plot\\{title}.png')"
   ]
  },
  {
   "cell_type": "code",
   "execution_count": 13,
   "metadata": {
    "scrolled": true
   },
   "outputs": [],
   "source": [
    "# lf_df['unemployment rate']"
   ]
  },
  {
   "cell_type": "code",
   "execution_count": 45,
   "metadata": {
    "scrolled": true
   },
   "outputs": [
    {
     "data": {
      "image/png": "[encoded data removed]",
      "text/plain": [
       "<Figure size 576x360 with 1 Axes>"
      ]
     },
     "metadata": {
      "needs_background": "light"
     },
     "output_type": "display_data"
    }
   ],
   "source": [
    "state = state_in[1]\n",
    "lf_df = labor_force_df[labor_force_df.states == state].copy()\n",
    "mw_df = min_wage_df[min_wage_df.states==state]\n",
    "fig1, ax1 = plt.subplots(figsize=(8,5))\n",
    "ax1.plot(lf_df['year'], lf_df[\"unemployment rate\"]);\n",
    "ax1.plot(mw_df['year'], mw_df['high.value']);"
   ]
  },
  {
   "cell_type": "markdown",
   "metadata": {},
   "source": [
    "# Breaking labor force by wage bins"
   ]
  },
  {
   "cell_type": "code",
   "execution_count": 26,
   "metadata": {},
   "outputs": [],
   "source": [
    "# copy data frame\n",
    "wage_bin_df = wage_df.copy()"
   ]
  },
  {
   "cell_type": "code",
   "execution_count": 38,
   "metadata": {},
   "outputs": [
    {
     "data": {
      "text/plain": [
       "138.66"
      ]
     },
     "execution_count": 38,
     "metadata": {},
     "output_type": "execute_result"
    }
   ],
   "source": [
    "wage_bin_df['h_mean'].max()"
   ]
  },
  {
   "cell_type": "code",
   "execution_count": 43,
   "metadata": {
    "scrolled": true
   },
   "outputs": [],
   "source": [
    "# create bin\n",
    "bin=np.arange(round(wage_bin_df['h_mean'].min()-5,0), round(wage_bin_df['h_mean'].max()+5,0),5)"
   ]
  },
  {
   "cell_type": "code",
   "execution_count": null,
   "metadata": {
    "scrolled": false
   },
   "outputs": [],
   "source": [
    "wage_bin_df.head()"
   ]
  },
  {
   "cell_type": "code",
   "execution_count": null,
   "metadata": {},
   "outputs": [],
   "source": [
    "wage_bin_df[\"h_mean\"].min()"
   ]
  },
  {
   "cell_type": "code",
   "execution_count": null,
   "metadata": {},
   "outputs": [],
   "source": []
  }
 ],
 "metadata": {
  "kernelspec": {
   "display_name": "Python 3",
   "language": "python",
   "name": "python3"
  },
  "language_info": {
   "codemirror_mode": {
    "name": "ipython",
    "version": 3
   },
   "file_extension": ".py",
   "mimetype": "text/x-python",
   "name": "python",
   "nbconvert_exporter": "python",
   "pygments_lexer": "ipython3",
   "version": "3.8.3"
  }
 },
 "nbformat": 4,
 "nbformat_minor": 4
}
