{
 "cells": [
  {
   "cell_type": "code",
   "execution_count": 1,
   "metadata": {},
   "outputs": [
    {
     "data": {
      "text/html": [
       "<div>\n",
       "<style scoped>\n",
       "    .dataframe tbody tr th:only-of-type {\n",
       "        vertical-align: middle;\n",
       "    }\n",
       "\n",
       "    .dataframe tbody tr th {\n",
       "        vertical-align: top;\n",
       "    }\n",
       "\n",
       "    .dataframe thead th {\n",
       "        text-align: right;\n",
       "    }\n",
       "</style>\n",
       "<table border=\"1\" class=\"dataframe\">\n",
       "  <thead>\n",
       "    <tr style=\"text-align: right;\">\n",
       "      <th></th>\n",
       "      <th>Year</th>\n",
       "      <th>State</th>\n",
       "      <th>Table_Data</th>\n",
       "      <th>Footnote</th>\n",
       "      <th>High.Value</th>\n",
       "      <th>Low.Value</th>\n",
       "      <th>CPI.Average</th>\n",
       "      <th>High.2018</th>\n",
       "      <th>Low.2018</th>\n",
       "    </tr>\n",
       "  </thead>\n",
       "  <tbody>\n",
       "    <tr>\n",
       "      <th>0</th>\n",
       "      <td>1968</td>\n",
       "      <td>Alabama</td>\n",
       "      <td>...</td>\n",
       "      <td>NaN</td>\n",
       "      <td>0.00000</td>\n",
       "      <td>0.00000</td>\n",
       "      <td>34.783333</td>\n",
       "      <td>0.00</td>\n",
       "      <td>0.00</td>\n",
       "    </tr>\n",
       "    <tr>\n",
       "      <th>1</th>\n",
       "      <td>1968</td>\n",
       "      <td>Alaska</td>\n",
       "      <td>2.1</td>\n",
       "      <td>NaN</td>\n",
       "      <td>2.10000</td>\n",
       "      <td>2.10000</td>\n",
       "      <td>34.783333</td>\n",
       "      <td>15.12</td>\n",
       "      <td>15.12</td>\n",
       "    </tr>\n",
       "    <tr>\n",
       "      <th>2</th>\n",
       "      <td>1968</td>\n",
       "      <td>Arizona</td>\n",
       "      <td>18.72 - 26.40/wk(b)</td>\n",
       "      <td>(b)</td>\n",
       "      <td>0.66000</td>\n",
       "      <td>0.46800</td>\n",
       "      <td>34.783333</td>\n",
       "      <td>4.75</td>\n",
       "      <td>3.37</td>\n",
       "    </tr>\n",
       "    <tr>\n",
       "      <th>3</th>\n",
       "      <td>1968</td>\n",
       "      <td>Arkansas</td>\n",
       "      <td>1.25/day(b)</td>\n",
       "      <td>(b)</td>\n",
       "      <td>0.15625</td>\n",
       "      <td>0.15625</td>\n",
       "      <td>34.783333</td>\n",
       "      <td>1.12</td>\n",
       "      <td>1.12</td>\n",
       "    </tr>\n",
       "    <tr>\n",
       "      <th>4</th>\n",
       "      <td>1968</td>\n",
       "      <td>California</td>\n",
       "      <td>1.65(b)</td>\n",
       "      <td>(b)</td>\n",
       "      <td>1.65000</td>\n",
       "      <td>1.65000</td>\n",
       "      <td>34.783333</td>\n",
       "      <td>11.88</td>\n",
       "      <td>11.88</td>\n",
       "    </tr>\n",
       "    <tr>\n",
       "      <th>5</th>\n",
       "      <td>1968</td>\n",
       "      <td>Colorado</td>\n",
       "      <td>1.00 - 1.25(b)</td>\n",
       "      <td>(b)</td>\n",
       "      <td>1.25000</td>\n",
       "      <td>1.00000</td>\n",
       "      <td>34.783333</td>\n",
       "      <td>9.00</td>\n",
       "      <td>7.20</td>\n",
       "    </tr>\n",
       "    <tr>\n",
       "      <th>6</th>\n",
       "      <td>1968</td>\n",
       "      <td>Connecticut</td>\n",
       "      <td>1.4</td>\n",
       "      <td>NaN</td>\n",
       "      <td>1.40000</td>\n",
       "      <td>1.40000</td>\n",
       "      <td>34.783333</td>\n",
       "      <td>10.08</td>\n",
       "      <td>10.08</td>\n",
       "    </tr>\n",
       "    <tr>\n",
       "      <th>7</th>\n",
       "      <td>1968</td>\n",
       "      <td>Delaware</td>\n",
       "      <td>1.25</td>\n",
       "      <td>NaN</td>\n",
       "      <td>1.25000</td>\n",
       "      <td>1.25000</td>\n",
       "      <td>34.783333</td>\n",
       "      <td>9.00</td>\n",
       "      <td>9.00</td>\n",
       "    </tr>\n",
       "    <tr>\n",
       "      <th>8</th>\n",
       "      <td>1968</td>\n",
       "      <td>District of Columbia</td>\n",
       "      <td>1.25 - 1.40</td>\n",
       "      <td>NaN</td>\n",
       "      <td>1.40000</td>\n",
       "      <td>1.25000</td>\n",
       "      <td>34.783333</td>\n",
       "      <td>10.08</td>\n",
       "      <td>9.00</td>\n",
       "    </tr>\n",
       "    <tr>\n",
       "      <th>9</th>\n",
       "      <td>1968</td>\n",
       "      <td>Federal (FLSA)</td>\n",
       "      <td>$1.15 &amp; $1.60</td>\n",
       "      <td>NaN</td>\n",
       "      <td>1.60000</td>\n",
       "      <td>1.15000</td>\n",
       "      <td>34.783333</td>\n",
       "      <td>11.52</td>\n",
       "      <td>8.28</td>\n",
       "    </tr>\n",
       "  </tbody>\n",
       "</table>\n",
       "</div>"
      ],
      "text/plain": [
       "   Year                 State           Table_Data Footnote  High.Value  \\\n",
       "0  1968               Alabama                  ...      NaN     0.00000   \n",
       "1  1968                Alaska                  2.1      NaN     2.10000   \n",
       "2  1968               Arizona  18.72 - 26.40/wk(b)      (b)     0.66000   \n",
       "3  1968              Arkansas          1.25/day(b)      (b)     0.15625   \n",
       "4  1968            California              1.65(b)      (b)     1.65000   \n",
       "5  1968              Colorado       1.00 - 1.25(b)      (b)     1.25000   \n",
       "6  1968           Connecticut                  1.4      NaN     1.40000   \n",
       "7  1968              Delaware                 1.25      NaN     1.25000   \n",
       "8  1968  District of Columbia          1.25 - 1.40      NaN     1.40000   \n",
       "9  1968        Federal (FLSA)        $1.15 & $1.60      NaN     1.60000   \n",
       "\n",
       "   Low.Value  CPI.Average  High.2018  Low.2018  \n",
       "0    0.00000    34.783333       0.00      0.00  \n",
       "1    2.10000    34.783333      15.12     15.12  \n",
       "2    0.46800    34.783333       4.75      3.37  \n",
       "3    0.15625    34.783333       1.12      1.12  \n",
       "4    1.65000    34.783333      11.88     11.88  \n",
       "5    1.00000    34.783333       9.00      7.20  \n",
       "6    1.40000    34.783333      10.08     10.08  \n",
       "7    1.25000    34.783333       9.00      9.00  \n",
       "8    1.25000    34.783333      10.08      9.00  \n",
       "9    1.15000    34.783333      11.52      8.28  "
      ]
     },
     "execution_count": 1,
     "metadata": {},
     "output_type": "execute_result"
    }
   ],
   "source": [
    "import pandas as pd\n",
    "import matplotlib.pyplot as plt\n",
    "import requests\n",
    "import scipy as sc\n",
    "import numpy as np\n",
    "import os \n",
    "#file2load = 'C:\\Users\\13106\\Desktop\\bootcamp\\Project_one\\ProjectOne\\Minimum_wage_data'\n",
    "min_wage_data = pd.read_csv('Minimum_wage_data_RevB.csv', encoding = 'iso-8859-1')\n",
    "min_wage_data_df = pd.DataFrame(min_wage_data)\n",
    "min_wage_data_df.head(10)"
   ]
  },
  {
   "cell_type": "code",
   "execution_count": 2,
   "metadata": {},
   "outputs": [
    {
     "data": {
      "text/plain": [
       "District of Columbia    50\n",
       "Kentucky                50\n",
       "Connecticut             50\n",
       "Alaska                  50\n",
       "Colorado                50\n",
       "Federal (FLSA)          50\n",
       "Georgia                 50\n",
       "Nevada                  50\n",
       "North Dakota            50\n",
       "Utah                    50\n",
       "Mississippi             50\n",
       "Idaho                   50\n",
       "Puerto Rico             50\n",
       "Alabama                 50\n",
       "New Hampshire           50\n",
       "Hawaii                  50\n",
       "New Jersey              50\n",
       "Iowa                    50\n",
       "Kansas                  50\n",
       "North Carolina          50\n",
       "Maryland                50\n",
       "Minnesota               50\n",
       "Tennessee               50\n",
       "Rhode Island            50\n",
       "Guam                    50\n",
       "Maine                   50\n",
       "Oregon                  50\n",
       "Pennsylvania            50\n",
       "Nebraska                50\n",
       "Virginia                50\n",
       "Missouri                50\n",
       "U.S. Virgin Islands     50\n",
       "Washington              50\n",
       "New Mexico              50\n",
       "Wisconsin               50\n",
       "Vermont                 50\n",
       "Delaware                50\n",
       "Illinois                50\n",
       "Massachusetts           50\n",
       "Indiana                 50\n",
       "New York                50\n",
       "Ohio                    50\n",
       "Texas                   50\n",
       "Louisiana               50\n",
       "Florida                 50\n",
       "Wyoming                 50\n",
       "West Virginia           50\n",
       "Oklahoma                50\n",
       "South Carolina          50\n",
       "California              50\n",
       "Arkansas                50\n",
       "Montana                 50\n",
       "Michigan                50\n",
       "South Dakota            50\n",
       "Arizona                 50\n",
       "Name: State, dtype: int64"
      ]
     },
     "execution_count": 2,
     "metadata": {},
     "output_type": "execute_result"
    }
   ],
   "source": [
    "min_wage_data_df['State'].value_counts()"
   ]
  },
  {
   "cell_type": "code",
   "execution_count": 3,
   "metadata": {},
   "outputs": [
    {
     "data": {
      "text/plain": [
       "2750"
      ]
     },
     "execution_count": 3,
     "metadata": {},
     "output_type": "execute_result"
    }
   ],
   "source": [
    "len(min_wage_data_df['State'])"
   ]
  },
  {
   "cell_type": "code",
   "execution_count": 4,
   "metadata": {},
   "outputs": [
    {
     "data": {
      "text/plain": [
       "array(['Alabama', 'Alaska', 'Arizona', 'Arkansas', 'California',\n",
       "       'Colorado', 'Connecticut', 'Delaware', 'District of Columbia',\n",
       "       'Federal (FLSA)', 'Florida', 'Georgia', 'Guam', 'Hawaii', 'Idaho',\n",
       "       'Illinois', 'Indiana', 'Iowa', 'Kansas', 'Kentucky', 'Louisiana',\n",
       "       'Maine', 'Maryland', 'Massachusetts', 'Michigan', 'Minnesota',\n",
       "       'Mississippi', 'Missouri', 'Montana', 'Nebraska', 'Nevada',\n",
       "       'New Hampshire', 'New Jersey', 'New Mexico', 'New York',\n",
       "       'North Carolina', 'North Dakota', 'Ohio', 'Oklahoma', 'Oregon',\n",
       "       'Pennsylvania', 'Puerto Rico', 'Rhode Island', 'South Carolina',\n",
       "       'South Dakota', 'Tennessee', 'Texas', 'U.S. Virgin Islands',\n",
       "       'Utah', 'Vermont', 'Virginia', 'Washington', 'West Virginia',\n",
       "       'Wisconsin', 'Wyoming'], dtype=object)"
      ]
     },
     "execution_count": 4,
     "metadata": {},
     "output_type": "execute_result"
    }
   ],
   "source": [
    "min_wage_data_df.State.unique()\n",
    "#list of states and territories recorded"
   ]
  },
  {
   "cell_type": "code",
   "execution_count": 5,
   "metadata": {},
   "outputs": [
    {
     "data": {
      "text/plain": [
       "55"
      ]
     },
     "execution_count": 5,
     "metadata": {},
     "output_type": "execute_result"
    }
   ],
   "source": [
    "len(min_wage_data_df.State.unique())\n",
    "#how many states or territories are measured"
   ]
  },
  {
   "cell_type": "code",
   "execution_count": 8,
   "metadata": {},
   "outputs": [
    {
     "data": {
      "text/plain": [
       "15.12"
      ]
     },
     "execution_count": 8,
     "metadata": {},
     "output_type": "execute_result"
    }
   ],
   "source": [
    "#highest minimum wage in dataset \n",
    "high2018 = min_wage_data_df['High.2018']\n",
    "highwage = high2018.max()\n",
    "highwage"
   ]
  },
  {
   "cell_type": "code",
   "execution_count": 9,
   "metadata": {},
   "outputs": [
    {
     "data": {
      "text/plain": [
       "1    Alaska\n",
       "Name: State, dtype: object"
      ]
     },
     "execution_count": 9,
     "metadata": {},
     "output_type": "execute_result"
    }
   ],
   "source": [
    "#alaska in 2018 has highest min wage of all datapoints\n",
    "min_wage_data_df.loc[min_wage_data_df['High.2018'] == 15.12,'State']"
   ]
  },
  {
   "cell_type": "code",
   "execution_count": 13,
   "metadata": {},
   "outputs": [
    {
     "data": {
      "text/plain": [
       "0.0"
      ]
     },
     "execution_count": 13,
     "metadata": {},
     "output_type": "execute_result"
    }
   ],
   "source": [
    "lowvalue = min_wage_data_df['Low.Value']\n",
    "lowest_min_wage = lowvalue.min()\n",
    "lowest_min_wage"
   ]
  },
  {
   "cell_type": "code",
   "execution_count": null,
   "metadata": {},
   "outputs": [],
   "source": []
  }
 ],
 "metadata": {
  "kernelspec": {
   "display_name": "Python 3",
   "language": "python",
   "name": "python3"
  },
  "language_info": {
   "codemirror_mode": {
    "name": "ipython",
    "version": 3
   },
   "file_extension": ".py",
   "mimetype": "text/x-python",
   "name": "python",
   "nbconvert_exporter": "python",
   "pygments_lexer": "ipython3",
   "version": "3.8.3"
  }
 },
 "nbformat": 4,
 "nbformat_minor": 4
}
